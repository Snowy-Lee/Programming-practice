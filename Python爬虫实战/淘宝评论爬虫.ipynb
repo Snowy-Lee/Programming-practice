{
 "cells": [
  {
   "cell_type": "code",
   "execution_count": 11,
   "metadata": {},
   "outputs": [],
   "source": [
    "# 素质四连，固定套路\n",
    "# 导入模块\n",
    "from selenium import webdriver\n",
    "# 指定网址\n",
    "url = 'https://www.taobao.com/'\n",
    "# 打开浏览器，指定为chrome浏览器\n",
    "driver = webdriver.Chrome(r\"D:\\Google\\Chrome\\Application\\chromedriver.exe\")\n",
    "# 加载网页\n",
    "driver.get(url)"
   ]
  },
  {
   "cell_type": "code",
   "execution_count": 12,
   "metadata": {},
   "outputs": [],
   "source": [
    "#前期准备，导入库文件（工具库）\n",
    "import requests"
   ]
  },
  {
   "cell_type": "code",
   "execution_count": 13,
   "metadata": {},
   "outputs": [],
   "source": [
    "#设定爬虫目标网址\n",
    "url = 'https://chaoshi.detail.tmall.com/item.htm?spm=a220m.1000858.1000725.11.4dbf273576uDEb&id=43585489970&skuId=4611686062012877874&user_id=725677994&cat_id=2&is_b=1&rn=d87b9a58db1e3e851c72f74cf67f4c8d'"
   ]
  },
  {
   "cell_type": "code",
   "execution_count": 14,
   "metadata": {},
   "outputs": [],
   "source": [
    "#直接发起数据请求\n",
    "data = requests.get(url).text"
   ]
  },
  {
   "cell_type": "code",
   "execution_count": 15,
   "metadata": {},
   "outputs": [
    {
     "data": {
      "text/plain": [
       "'\\r\\n\\n\\n\\n<!DOCTYPE HTML>\\n<html>\\n<head>\\n    <meta charset=\"gbk\"/>\\n    <meta name=\"renderer\" content=\"webkit\"/>\\n    <meta http-equiv=\"X-UA-Compatible\" content=\"IE=Edge\"/>\\n    <link rel=\"dns-prefetch\" href=\"//g.alicdn.com\"/>\\n    <link rel=\"dns-prefetch\" href=\"//img.alicdn.com\"/>\\n    <link rel=\"dns-prefetch\" href=\"//gm.mmstat.com\"/>\\n    <link rel=\"dns-prefetch\" href=\"//ald.taobao.com\"/>\\n    <link rel=\"dns-prefetch\" href=\"//bar.tmall.com\"/>\\n    <meta name=\"spm-id\" content=\"1.1\"/>\\n    <title>53度茅台迎宾酒500mlx6瓶整箱装酱香型白酒-天猫超市-天猫Tmall.com-上天猫，就购了-理想生活上天猫</title>\\n    <link rel=\"shortcut icon\" href=\"//img.alicdn.com/tfs/TB1XlF3RpXXXXc6XXXXXXXXXXXX-16-16.png\" type=\"image/x-icon\"/>\\n    <script>\\n        window.g_config = window.g_config || {};\\n        window.g_config.devId = \"pc\";\\n        window.g_config.headerVersion = \\'1.0.0\\';\\n                                                                            window.g_config.pageId = \\'chaoshi\\';\\n                window.g_config.bizId = \\'chaoshi\\';\\n                                                                window.g_config.isMarket = true;\\n                                            window.g_config.loadModulesLater = true;\\n        window.g_config.sl = \\'vm\\';\\n    </script>\\n                        \\n<script>(function(D,W){var sampling=1000,maxNum=5,_st = +new Date();if(Math.floor(Math.random()*sampling)>0){return;}var onError=W.onerror=function(err,file,line){if((--maxNum)<=0){return;};err=\\'[t\\'+(new Date()-_st)+\\']\\'+err;if(W._jstErrCat){err=\\'[c\\'+W._jstErrCat+\\']\\'+err;}var nick=\"\",result;try{result=/_nk_=([^;]+)/.exec(D.cookie);if(result){nick=decodeURIComponent(result[1]);}}catch(e){}new Image().src=\"http://gm.mmstat.com/ued.1.1.2?\"+[\"type=9\",\"id=jstracker\",\"v=0.01\",\"nick=\"+encodeURIComponent(nick),\"islogin=0\",\"msg=\"+encodeURIComponent(err||\"\"),\"file=\"+encodeURIComponent(file||\"\"),\"line=\"+encodeURIComponent(line||\"\"),\"scrolltop=\"+(D.documentElement.scrollTop||D.body.scrollTop||0),\"screen=\"+screen.width+\"x\"+screen.height,\"t=\"+new Date().valueOf()].join(\"&\");};W._jstErrTimeout=setTimeout(function(){onError(\"App init timeout\");},4096);})(document, window)</script>\\n\\n\\n<script>(function(cfg){for(var key in cfg){g_config[key]=cfg[key]}})({_:\"chaoshi\",itemId:\"43585489970\",sellerId:\"725677994\",shopId:\"67597230\",startTime:(+new Date()),p:1,type:\"b\",t:\"2013072520131122\",assetsHost:\"${uiBaseUrl}\",pw:(window.screen.width >= 1260&&true&&(6393&8||6393&512||6393&16384||(/standard=1/.test(window.location.search)&&!false)))?\"1190\":\"990\",webww:true,removeBrandBar:true,ap_mods:{jstracker:[0]},\"loadModulesLater\":true,shopUrl:\"\",moduleTimeStamp: \"\"  ,showDetailQrcode:true,showShopQrcode:true,wtId:\"2090348141\",reviewsVersion:\"3.0.14\",beautyBucketTestIdArray:\"[all]\",cspuBucketTestIdArray:\"[all]\",monthlySalesBucketTestIdArray:\"[no]\",beautyVesion :\"1.4.2\",controlModuleOwn:\"true\",toolbar:false,ueUrl:\"//feedback.taobao.com/pc/feedbacks?productId=339&source=Web\",shopVersion:\"3.2.20\",tmShopAges: 10 ,ueId:1677,\\n\\n\\n\\nappId:\"03227\",moduleTimeStamp: \"\"  ,startTime:(+new Date()),bizTag:6393,t:\\'20130725\\',itemId:\\'43585489970\\',assetsHost:\\'//assets.alicdn.com\\',ap_mods:{jstracker:[0]},p:1,reviewsVersionOldFlag:true,reviewsVersion:\"1.6.19\",type:\\'b\\',isEC:true ,toolbar:false,webww:true,pageType: \\'\\',tmallConfig:{commonJS:{miniBag:{off:true}}},\\n        closeMiniBag:true})</script>\\n<script>\\n    window.g_config.notInitSearchBar=true;\\n    (function(w, d) {if(w.screen.width >= 1260&&(w.g_config.bizTag&8||(/standard=1/.test(w.location.search)&&w.g_config.bizTag&16))) d.getElementsByTagName(\\'html\\')[0][\\'className\\'] += \" w1190\";})(window, document);\\n</script>\\n    <!-- globalmodule version: 3.0.84 -->\\n<link rel=\"stylesheet\"\\n      href=\"//g.alicdn.com/??mui/global/3.0.31/global.css\"/>\\n<script src=\"//g.alicdn.com/??kissy/k/1.4.2/seed-min.js,mui/seed/1.3.0/seed.js,mui/globalmodule/3.0.84/seed.js,mui/btscfg-g/3.0.0/index.js,mui/bucket/3.0.4/index.js,mui/globalmodule/3.0.84/global-mod-pc.js,mui/globalmodule/3.0.84/global-mod.js,mui/global/3.0.31/global-pc.js,mui/global/3.0.31/global.js\"></script>\\n<script src=\"//g.alicdn.com/secdev/pointman/js/index.js\" app=\"tmall\"></script>\\n<script>\\n        TB.environment.isApp = true;\\n                TB.environment.passCookie = true;\\n        </script>\\n\\n    <link rel=\"stylesheet\" href=\"//g.alicdn.com/??mui/chaoshi-pc-base/4.0.13/index.css,mui/chaoshi-pc-base/4.0.13/detail/detail.css,tm/detail/2.0.3/app.css,tm/detail/2.0.3/page/detail-chaoshi.css\"/>\\n    \\n<script async src=\"//g.alicdn.com/sd/sufei/0.3.103/app/common/sufei-seed.js\"></script>\\n\\n<script src=\"//g.alicdn.com/??mui/kissy-polyfill/4.0.13/index.js,mui/chaoshi-pc-base/4.0.13/seed.js,mui/chaoshi-pc-base/4.0.13/detail/detail.js,tm/detail/2.0.3/app.js,tm/detail/2.0.3/page/detail-chaoshi.js\"></script>\\n\\n<meta name=\"spm-id\" content=\"a220o\"/>\\n\\n\\n</head>\\n<body  data-spm=\"7406545\"><script>\\nwith(document)with(body)with(insertBefore(createElement(\"script\"),firstChild))setAttribute(\"exparams\",\"category=item%5f50008144&userid=&at_isb=1&b2c_brand=4101168&b2c_auction=43585489970&at_autype=4%5f67597230&aplus&yunid=&7ee4335d63ebe&trid=0b1132f616055146670303148ee2f3&asid=AQAAAACrNbJfO2+7KwAAAABT9gJSwgzgww==\",id=\"tb-beacon-aplus\",src=(location>\"https\"?\"//g\":\"//g\")+\".alicdn.com/alilog/mlog/aplus_v2.js\")\\n</script>\\n\\n                            <div id=\"mallPage\"\\n     class=\"  tmall-chaoshi  page-market\">\\n        <style>\\nbutton {\\n  border-radius: 0;\\n}\\n</style>\\n<!--from fragment-->\\n<div id=\"site-nav\" data-spm=\"a2226mz\">\\n    <div id=\"sn-bg\">\\n        <div class=\"sn-bg-right\">\\n        </div>\\n    </div>\\n    <div id=\"sn-bd\">\\n        <b class=\"sn-edge\"></b>\\n        <div class=\"sn-container\">\\n            <p id=\"login-info\" class=\"sn-login-info\"></p>\\n            <ul class=\"sn-quick-menu\">\\n                <li class=\"sn-mytaobao menu-item j_MyTaobao\">\\n                    <div class=\"sn-menu\">\\n                        <a class=\"menu-hd\"\\n                           href=\"//i.taobao.com/my_taobao.htm\"\\n                           target=\"_top\" rel=\"nofollow\">我的淘宝<b></b></a>\\n                        <div class=\"menu-bd\">\\n                            <div class=\"menu-bd-panel\" id=\"myTaobaoPanel\">\\n                                <a href=\"//trade.taobao.com/trade/itemlist/list_bought_items.htm?t=20110530\"\\n                                   target=\"_top\" rel=\"nofollow\">已买到的宝贝</a>\\n                                <a href=\"//trade.taobao.com/trade/itemlist/list_sold_items.htm?t=20110530\"\\n                                   target=\"_top\" rel=\"nofollow\">已卖出的宝贝</a>\\n                            </div>\\n                        </div>\\n                    </div>\\n                </li>\\n                <li class=\"sn-seller-center hidden j_SellerCenter\">\\n                    <a target=\"_top\" href=\"//mai.taobao.com/seller_admin.htm\">商家中心</a>\\n                </li>\\n                <li class=\"sn-cart\"><i class=\"mui-global-iconfont\">&#xf0148;</i>\\n                    <a class=\"sn-cart-link\" href=\"//cart.tmall.com/cart/myCart.htm?from=btop\" target=\"_top\"\\n                       rel=\"nofollow\">购物车\\n                    </a>\\n                </li>\\n                <li class=\"sn-favorite menu-item\">\\n                    <div class=\"sn-menu\">\\n                        <a class=\"menu-hd\"\\n                           href=\"//shoucang.taobao.com/shop_collect_list.htm?scjjc=c1\"\\n                           target=\"_top\" rel=\"nofollow\">收藏夹<b></b></a>\\n\\n                        <div class=\"menu-bd\">\\n                            <div class=\"menu-bd-panel\">\\n                                <a href=\"//shoucang.taobao.com/item_collect.htm\" target=\"_top\"\\n                                   rel=\"nofollow\">收藏的宝贝</a>\\n                                <a href=\"//shoucang.taobao.com/shop_collect_list.htm\" target=\"_top\"\\n                                   rel=\"nofollow\">收藏的店铺</a>\\n                            </div>\\n                        </div>\\n                    </div>\\n                </li>\\n                <li class=\"sn-separator\"></li>\\n                <li class=\"sn-mobile\">\\n                    <i class=\"mui-global-iconfont\">&#x3448;</i>\\n                    <a title=\"天猫无线\" target=\"_top\" class=\"sn-mobile-link\" href=\"//pages.tmall.com/wow/portal/act/app-download?scm=1027.1.1.1\">手机版</a>\\n                </li>\\n                <li class=\"sn-home\">\\n                    <a href=\"//www.taobao.com/\">淘宝网</a>\\n                </li>\\n                <li class=\"sn-seller menu-item\">\\n                    <div class=\"sn-menu J_DirectPromo\">\\n                        <a class=\"menu-hd\" href=\"//mai.taobao.com\" target=\"_top\">商家支持<b></b></a>\\n                        <div class=\"menu-bd sn-seller-lazy\">\\n                        </div>\\n                    </div>\\n                </li>\\n                <li class=\"sn-sitemap\">\\n                    <div class=\"sn-menu\">\\n                        <h3 class=\"menu-hd\"><i class=\"mui-global-iconfont\">&#xe601;</i><span>网站导航</span><b></b></h3>\\n                        <div class=\"menu-bd sn-sitemap-lazy sn-sitemap-bd\" data-spm=\"a2228l4\">\\n                        </div>\\n                    </div>\\n                </li>\\n            </ul>\\n        </div>\\n    </div>\\n</div>\\n\\n    <div id=\"header\"\\n         class=\"mallChn\"\\n         data-spm=\"a2226n0\">\\n        <div class=\"headerLayout\">\\n            <div class=\"headerCon \">\\n                <h1 id=\"mallLogo\" >\\n    <span class=\"mlogo\" >\\n                    <style>\\n    #header h1#mallLogo  .mlogo s{\\n        background-image: url(//gw.alicdn.com/tfs/TB1OpaTmUz1gK0jSZLeXXb9kVXa-666-243.png);\\n    }\\n    #header .mallSearch-form {\\n        border-color:  #30b30e;\\n    }\\n    \\n    #header #mallSearch button {\\n        background-color: #30b30e;\\n    }\\n    \\n    #header .chaoshiArea h3, #header .header-banner .market-feature s {\\n        color: #30b30e;\\n    }\\n</style>\\n<a href=\"//chaoshi.tmall.com?notjump=true&_ig=logo\" title=\"天猫超市-chaoshi.tmall.com\"><s></s>天猫超市-chaoshi.tmall.com</a>\\n            </span>\\n</h1>\\n\\n                <div class=\"header-extra\">\\n                                            <div class=\"header-banner\">\\n                            <ul class=\"market-feature\">\\n\\t<li><a href=\"///pages.tmall.com/wow/chaoshi/act/yizhanshigouqi?spm=a312d.7832034.0.0.snz6y7\"><s>&#x347d;</s>一站式购齐</a></li>\\n\\t<li><a href=\"//service.tmall.com/support/tmall/knowledge-1137790.htm\"><s>&#x3489;</s>满88包邮</a></li>\\n\\t<li class=\"license\"><a href=\"//pages.tmall.com/wow/chaoshi/act/paper-list\"><img src=\"//img.alicdn.com/tps/i1/TB1L25iFFXXXXXcbpXXgBrbGpXX-36-36.png\"/></a></li>\\n\\t<li style=\"margin-right: -33px;margin-top: -58px;\"><a href=\"//pages.tmall.com/wow/chaoshi/act/tmcsztbggs\"><img src=\"//img.alicdn.com/tfs/TB1fc6SdKuSBuNjy1XcXXcYjFXa-36-36.png\"></a></li>\\n</ul>\\n                        </div>\\n                                                                                <div id=\"mallSearch\" class=\"mall-search\">\\n    <form name=\"searchTop\" action=\"//list.tmall.com/search_product.htm\" class=\"mallSearch-form clearfix\" target=\"_top\">\\n        <fieldset>\\n            <legend>天猫搜索</legend>\\n            <div class=\"mallSearch-input clearfix\">\\n                <label for=\"mq\">搜索 天猫 商品/品牌/店铺</label>\\n\\n                <div class=\"s-combobox\">\\n                    <div class=\"s-combobox-input-wrap\">\\n                                                    <input type=\"text\" name=\"q\"                                    accesskey=\"s\" autocomplete=\"off\" x-webkit-speech=\"\"\\n                                   x-webkit-grammar=\"builtin:translate\"\\n                                   value=\"\" id=\"mq\" autocomplete=\"off\"/>\\n                                            </div>\\n                </div>\\n                <button type=\"submit\"><i>&#x355d;</i>搜索<s></s>\\n                </button>\\n                <input id=\"J_Type\" type=\"hidden\" name=\"type\" value=\"p\"/>\\n                <input id=\"J_MallSearchStyle\" type=\"hidden\" name=\"style\" value=\"\">\\n                <input id=\"J_Cat\" type=\"hidden\" name=\"cat\" value=\"all\"/>\\n                <input type=\"hidden\" name=\"vmarket\" value=\"\">\\n                            </div>\\n        </fieldset>\\n    </form>\\n    </div>\\n                                    </div>\\n            </div>\\n        </div>\\n    </div>\\n\\n<div id=\"page\">\\n    <div id=\"content\">\\n\\n            <div class=\"tm-chaoshi-nav\" data-spm=\"1998159256\">\\n    <div class=\"layout\">\\n        <div class=\"nav-extra\">\\n            <div id=\"cat\">所有产品分类</div>\\n            <div id=\"J_NavCart\"></div>\\n            <a class=\"my-welfare\" href=\"//chaoshi.tmall.com/oclottery/oclottery.htm\"><span></span>我的福利</a>\\n        </div>\\n    </div>\\n</div>\\n<style>\\n.hot-query{display: none;}\\n.hypermarket{display: none;}\\n.my-welfare{display:none;}\\n.m-lottery-index{display:none;}\\n.m-user-nav .nav .nav-items li:first-of-type {\\n    display: none;\\n}\\n</style>\\n    \\n    <script type=\"text/javascript\">\\r\\nKISSY.config({\\r\\n  \"combine\": true,\\r\\n  \"modules\": {\\r\\n    \"mui/mtop/index\": {\\r\\n      \"requires\": [\\r\\n        \"mui/mtb-windvane/\",\\r\\n        \"mui/babel-polyfill/\"\\r\\n      ]\\r\\n    },\\r\\n    \"mui/mtop/storage-middleware\": {\\r\\n      \"requires\": [\\r\\n        \"mui/babel-polyfill/\"\\r\\n      ]\\r\\n    },\\r\\n    \"mui/zebra-guaguaka-detail-pc/index-pc\": {\\r\\n      \"requires\": [\\r\\n        \"mui/kissy-polyfill/index\",\\r\\n        \"dom\",\\r\\n        \"event\",\\r\\n        \"ajax\",\\r\\n        \"mui/minilogin/index\",\\r\\n        \"mui/zebra-guaguaka-detail-pc/widget\",\\r\\n        \"mui/zebra-guaguaka-detail-pc/index-pc.css\",\\r\\n        \"mui/mtop/index\"\\r\\n      ]\\r\\n    },\\r\\n    \"mui/zebra-guaguaka-detail-pc/widget\": {\\r\\n      \"requires\": [\\r\\n        \"dom\",\\r\\n        \"event\"\\r\\n      ]\\r\\n    }\\r\\n  },\\r\\n  \"packages\": {\\r\\n    \"kissy\": {\\r\\n      \"base\": \"//g.alicdn.com/kissy/k/1.4.10/\",\\r\\n      \"version\": \"1.4.10\"\\r\\n    },\\r\\n    \"mui/babel-polyfill\": {\\r\\n      \"debug\": true,\\r\\n      \"group\": \"tm\",\\r\\n      \"ignorePackageNameInUri\": true,\\r\\n      \"path\": \"//g.alicdn.com/mui/babel-polyfill/6.2.6/\",\\r\\n      \"version\": \"6.2.6\"\\r\\n    },\\r\\n    \"mui/kissy-polyfill\": {\\r\\n      \"debug\": true,\\r\\n      \"group\": \"tm\",\\r\\n      \"ignorePackageNameInUri\": true,\\r\\n      \"path\": \"//g.alicdn.com/mui/kissy-polyfill/4.0.15/\",\\r\\n      \"version\": \"4.0.15\"\\r\\n    },\\r\\n    \"mui/mtb-windvane\": {\\r\\n      \"debug\": true,\\r\\n      \"group\": \"tm\",\\r\\n      \"ignorePackageNameInUri\": true,\\r\\n      \"path\": \"//g.alicdn.com/mui/mtb-windvane/4.0.3/\",\\r\\n      \"version\": \"4.0.3\"\\r\\n    },\\r\\n    \"mui/mtop\": {\\r\\n      \"debug\": true,\\r\\n      \"group\": \"tm\",\\r\\n      \"ignorePackageNameInUri\": true,\\r\\n      \"path\": \"//g.alicdn.com/mui/mtop/4.1.1/\",\\r\\n      \"version\": \"4.1.1\"\\r\\n    },\\r\\n    \"mui/zebra-guaguaka-detail-pc\": {\\r\\n      \"debug\": true,\\r\\n      \"group\": \"tm\",\\r\\n      \"ignorePackageNameInUri\": true,\\r\\n      \"path\": \"//g.alicdn.com/mui/zebra-guaguaka-detail-pc/3.0.18/\",\\r\\n      \"version\": \"3.0.18\"\\r\\n    }\\r\\n  }\\r\\n});\\r\\n</script>\\n\\n\\n\\n    <div class=\"tm-crumbs\">\\n<div class=\"tm-content\">\\n    <ul class=\"nav J_MallCrumbs\"></ul>\\n</div>\\n</div>\\n\\n<div id=\"detail\">    \\r\\n\\n\\n                                \\n\\n                        \\t\\t                                                                                                        \\t\\t                                                                                        \\t\\t        \\t\\t\\n\\n\\n                                                                                                                \\t\\t                                        \\t\\t                                                        \\t\\t        \\t\\t\\t\\t\\t\\t\\t\\t\\n\\n                                \\n\\n                        \\t\\t\\t\\t\\t\\t\\t\\t\\t\\t\\t\\t        \\t\\t                                                                        \\t\\t\\t\\t\\t\\t\\t\\t\\t\\t                \\t\\t\\t\\t\\t\\t\\n\\n                                \\n\\t\\t\\t\\t\\t\\t\\t\\t\\t\\t\\t\\t\\n\\t\\t\\n\\n\\n\\n\\n\\n\\n\\n\\n\\n\\n\\n\\n<div id=\"J_DetailMeta\" class=\"tm-detail-meta tm-clear\">\\n<div class=\"tm-clear\">\\n        <div class=\"tb-property\">\\n            <div class=\"tb-wrap\">\\n\\t\\t\\t\\r\\n<div class=\"tb-detail-hd\">\\r\\n    \\r\\n  \\r\\n<h1 data-spm=\"1000983\">\\t\\r\\n\\t\\t\\t\\t\\t 53度茅台迎宾酒500mlx6瓶整箱装酱香型白酒\\r\\n\\t</h1>\\r\\n\\r\\n\\t\\t\\t\\r\\n \\t<p>\\r\\n\\t\\t\\t\\t\\r\\n\\t\\t        \\t\\t\\t\\t\\t\\t\\t官方授权  品质保障\\t\\t\\t\\t\\t\\t\\r\\n\\t\\t\\t</p>\\r\\n                                    </div>\\r\\n\\t\\t\\t \\t\\t\\t \\t\\t\\t\\t                    <div class=\"tm-fcs-panel\">\\n    \\t\\t \\t    <dl class=\"tm-price-panel\" id=\"J_StrPriceModBox\">\\n        <dt class=\"tb-metatit\">价格</dt>\\n        <dd>\\n                            \\t\\t\\t\\t<span class=\"tm-price-item\">149.83元/500ml</span>\\n\\t\\t\\t\\t\\t        </dd>\\n    </dl>\\n\\t<script type=\"data/tpl\" id=\"J_PromoHintText\">\\n\\t\\t\\t\\t\\t<!--rullBanner ids:$ids true-->\\n\\n\\t\\t\\t</script> \\n                 <dl class=\"tm-promo-panel\" id=\"J_PromoPrice\" data-label=\"促销价\"><dt class=\"tb-metatit\">促销价</dt><dd></dd></dl>\\n</div>\\n<div class=\"tb-meta\">\\n     \\t        <dl class=\"tm-delivery-panel\" id=\"J_RSPostageCont\"><dt class=\"tb-metatit\">运费</dt><dd>\\n            <div class=\"tb-postAge\">\\n                <span id=\"J_AddrSelectTrigger\" class=\"mui_addr_tri\"  combo-level=\"3\">至&nbsp;杭州</span>\\n                <div id=\"J_PostageToggleCont\" class=\"tb-postAge-info\"></div>\\n\\t\\t\\t\\t            </div>\\n                    </dd></dl>\\n\\t    \\t \\r\\n\\t\\t\\t\\t\\t\\t\\t\\t\\t        <dl class=\"tm-item-weight\">\\r\\n            <dt class=\"tb-metatit\">重量</dt>\\r\\n                        <dd><em>7.1</em>kg</dd>\\r\\n        </dl>\\r\\n\\t\\t\\t</div>\\n<ul class=\"tm-ind-panel\">\\n                 \\t\\t\\t<li class=\"tm-ind-item tm-ind-sellCount \" data-label=\"月销量\"></li>\\r\\n            <li class=\"tm-ind-item tm-ind-reviewCount\" id=\"J_ItemRates\"></li>\\r\\n    \\t\\r\\n\\t\\t\\t\\t\\t\\t\\t\\t                <li class=\"tm-ind-item tm-ind-emPointCount\" data-spm=\"1000988\">\\r\\n                    <a href=\"//vip.tmall.com/vip/index.htm\" target=\"_blank\">\\r\\n                        <span class=\"tm-label\">送天猫积分</span>\\r\\n                        <span class=\"tm-count\">\\r\\n                                                            89\\r\\n                                                    </span>\\r\\n                    </a>\\r\\n                </li>\\r\\n\\t\\t\\t</ul>\\n\\n\\t\\t\\t\\t\\t\\t\\t\\t\\t\\t\\t\\t                      \\t<div class=\"tb-key\">\\n\\t\\t<div class=\"tb-skin\">\\n    \\t\\t<div class=\"tb-sku\">\\n                \\t\\t\\t\\t\\t\\t\\t\\t\\t\\t\\t\\t        \\t\\t\\t\\t\\t\\t\\t\\t\\t\\t                \\t<dl class=\"tb-amount tm-clear\">\\r\\n\\t<dt  class=\"tb-metatit\">数量</dt>\\r\\n\\t<dd id=\"J_Amount\" >\\r\\n\\t\\t<span class=\"tb-amount-widget mui-amount-wrap\">\\r\\n\\t\\t\\t<input type=\"text\" class=\"tb-text mui-amount-input\" value=\"1\" maxlength=\"8\" title=\"请输入购买量\"/>\\r\\n\\t\\t\\t<span class=\"mui-amount-btn\">\\r\\n                <span class=\"mui-amount-increase\">&#xe614;</span>\\r\\n                <span class=\"mui-amount-decrease\">&#xe615;</span>\\r\\n\\t\\t\\t</span>\\r\\n\\t\\t\\t\\t\\t\\t<span class=\"mui-amount-unit\">件</span>\\r\\n\\t\\t\\t\\t\\t</span>\\r\\n\\t\\t\\t\\t\\t<em id=\"J_EmStock\" class=\"tb-hidden\">库存<span id=\"J_SpanStock\"></span>件</em>\\r\\n\\t\\t\\t\\t<span id=\\'J_StockTips\\'>\\r\\n\\t\\t\\t\\t\\t\\t\\t\\t\\t\\t\\t</span>\\r\\n\\t</dd>\\r\\n</dl>\\r\\n                                \\t\\t\\t\\t\\t\\t\\t\\t\\n        \\t\\t\\n    <dl id=\"J_Progressive\" class=\"tb-prop tm-clear tb-hidden\">\\n        <dt class=\"tb-metatit\">花呗分期</dt>\\n        <dd>\\n            <ul class=\"tm-clear\">\\n                <li><a href=\"#\"><span></span></a><i>已选中</i></li>\\n            </ul>\\n        </dd>\\n    </dl>\\n        \\t\\t<div class=\"tb-action tm-clear\">\\n\\t\\t\\t\\t\\t\\t\\t\\t\\t\\t\\t\\t\\t\\t\\t\\t\\t                <div  class=\"tb-btn-buy tb-btn-sku\" >\\n                    <a id=\"J_LinkBuy\" href=\"#\" rel=\"nofollow\"  data-addFastBuy=\"true\"  title=\"点击此按钮，到下一步确认购买信息。\">立即购买</a>\\n                </div>\\n\\t\\t\\t\\t\\t\\t\\t\\t\\t        \\t\\t\\t\\t\\t\\t            <div class=\"tb-btn-basket tb-btn-sku tm-chaoshi-add\"><a href=\"#\" rel=\"nofollow\" id=\"J_LinkBasket\"><i>&#xe612;</i>加入购物车</a></div>\\n\\t\\t\\t            <div class=\"tb-btn-add tb-btn-sku tb-hidden\"><a href=\"#\" rel=\"nofollow\" id=\"J_LinkAdd\"><i>&#xe612;</i>加入购物车</a></div>\\n        \\t\\t\\t</div>\\n        \\t\\t        \\t</div>\\n\\t\\t</div>\\n\\t</div>\\n\\t\\t\\t\\t\\t\\t<p class=\"tm-chaoshi-range\">\\n    <span class=\"tb-metatit\">配送范围</span>\\n    <s class=\"J_CSDeliverRange\"></s>\\n</p>\\t\\t\\t\\t\\t    <div class=\"tm-ser tm-clear\">\\n                \\t\\t\\t\\t\\t\\t            \\t<div class=\"tm-pay-box\">\\r\\n                <div class=\"tm-pay\">\\r\\n                    <em class=\"pay-title\">支付方式</em>\\r\\n\\t\\t\\t\\t                    <em title=\"显示所有信息\" class=\"pay-toggler\" id=\"J_Toggler\">更多信息</em>\\r\\n\\t\\t\\t\\t                    <div data-spm=\"1998099674\" class=\"pay-credit J_Paylist\" >\\r\\n\\t\\t\\t\\t\\t\\t\\t\\t\\t\\t\\t\\t\\t\\t\\t\\t\\t\\t\\t                                <a title=\"支持使用信用卡支付\" target=\"_blank\" href=\"//payservice.alipay.com/intro/index.htm?c=xyk\">信用卡<s style=\"background: url(//img.alicdn.com/tps/i4/TB1gNG3JpXXXXbcXVXXAz6UFXXX-16-16.png) no-repeat center center;\"></s></a>\\r\\n\\t\\t\\t\\t\\t\\t\\t\\t\\t\\t\\t\\t\\t\\t                                <a title=\"支持用绑定了支付宝的银行卡付款\" href=\"//payservice.alipay.com/intro/index.htm?c=kjzf\" target=\"_blank\">快捷支付 <s style=\"background: url(//gtms04.alicdn.com/tps/i4/TB1fnvXJpXXXXcTXpXXAz6UFXXX-16-16.png) no-repeat center center;\"></s></a>\\r\\n\\t\\t\\t\\t\\t\\t\\t\\t\\t\\t\\t\\t\\t\\t                                <a title=\"免费利用花呗额度支付，下月10号还款\" href=\"//payservice.alipay.com/intro/index.htm?c=hb\" target=\"_blank\">蚂蚁花呗 <s style=\"background: url(//gtms03.alicdn.com/tps/i3/TB1rf58JpXXXXc5XFXXAz6UFXXX-16-16.png) no-repeat center center;\"></s></a>\\r\\n\\t\\t\\t\\t\\t\\t\\t\\t\\t\\t\\t\\t\\t\\t\\t\\t\\t\\t\\t\\t\\t\\t\\t\\t\\t\\t\\t\\t\\t\\t\\t\\t\\t\\t\\t\\t\\t\\t\\t\\t\\t\\t                                <a title=\"支持使用余额宝付款，边赚边花\" href=\"//payservice.alipay.com/intro/index.htm?c=yeb\" target=\"_blank\">余额宝 <s style=\"background: url(//gtms02.alicdn.com/tps/i2/TB1HAHaJpXXXXX0XFXXAz6UFXXX-16-16.png) no-repeat center center;\"></s></a>\\r\\n\\t\\t\\t\\t\\t\\t\\t\\t\\t\\t\\t\\t\\t                    </div>\\r\\n                </div>\\r\\n            </div>\\r\\n\\t\\t\\t\\t\\t\\t    </div>\\n\\t\\t\\t\\t\\t\\t    \\n\\t\\t\\t\\t\\n\\t\\t\\t\\t\\t\\t\\t\\t\\t\\t            </div>\\n        </div>\\n\\t\\t<div class=\"tb-gallery\">\\t\\t\\t\\t\\r\\n\\t\\r\\n\\t\\t\\t\\t\\r\\n\\r\\n \\t\\t\\r\\n\\r\\n<div class=\"tb-booth\">\\r\\n\\t<a href=\"javascript:void(0);\">\\r\\n\\t\\t<img id=\"J_ImgBooth\" alt=\"53度茅台迎宾酒500mlx6瓶整箱装酱香型白酒\" src=\"//img.alicdn.com/imgextra/i2/725677994/O1CN01Ru4BAl28vImguhKwF_!!725677994-0-sm.jpg_430x430q90.jpg\"   data-hasZoom=\"700\"    />\\r\\n\\t</a>\\r\\n</div>\\r\\n<div class=\"tb-thumb-warp \">\\r\\n\\t<a class=\"tb-thumb-left\"><i>&#xe631;</i></a>\\r\\n\\t<div class=\"tb-thumb-content\"> \\r\\n\\t\\t<ul id=\"J_UlThumb\" class=\"tb-thumb tm-clear\">\\r\\n\\t\\t\\t\\t\\t\\t\\t\\t\\t\\t\\t\\t<li class=\"\">\\r\\n\\t\\t\\t\\t\\t\\t \\t\\t\\t\\t\\t\\t<a href=\"#\"><img src=\"//img.alicdn.com/imgextra/i2/98/O1CN012VyR2m1CavS6063wH_!!98-0-lubanu.jpg_60x60q90.jpg\" /></a>\\r\\n\\t\\t\\t\\t\\t</li>\\r\\n\\t\\t\\t\\t\\t\\t\\t\\t\\t<li class=\"tb-selected\">\\r\\n\\t\\t\\t\\t\\t\\t\\t\\t\\t\\t\\t\\t<a href=\"#\"><img src=\"//img.alicdn.com/imgextra/i2/725677994/O1CN01Ru4BAl28vImguhKwF_!!725677994-0-sm.jpg_60x60q90.jpg\" /></a>\\r\\n\\t\\t\\t\\t\\t</li>\\r\\n\\t\\t\\t\\t\\t\\t\\t\\t\\t<li class=\"\">\\r\\n\\t\\t\\t\\t\\t\\t\\t\\t\\t\\t\\t\\t<a href=\"#\"><img src=\"//img.alicdn.com/imgextra/i3/725677994/O1CN01dO1ZIb28vIlBoGvwC_!!725677994.jpg_60x60q90.jpg\" /></a>\\r\\n\\t\\t\\t\\t\\t</li>\\r\\n\\t\\t\\t\\t\\t\\t\\t\\t\\t<li class=\"\">\\r\\n\\t\\t\\t\\t\\t\\t\\t\\t\\t\\t\\t\\t<a href=\"#\"><img src=\"//img.alicdn.com/imgextra/i1/725677994/O1CN01lwU2qA28vIlEG7bhP_!!725677994.jpg_60x60q90.jpg\" /></a>\\r\\n\\t\\t\\t\\t\\t</li>\\r\\n\\t\\t\\t\\t\\t\\t\\t\\t\\t<li class=\"\">\\r\\n\\t\\t\\t\\t\\t\\t\\t\\t\\t\\t\\t\\t<a href=\"#\"><img src=\"//img.alicdn.com/imgextra/i2/725677994/O1CN01QscXXF28vIlBoG3vN_!!725677994.jpg_60x60q90.jpg\" /></a>\\r\\n\\t\\t\\t\\t\\t</li>\\r\\n\\t\\t\\t\\t\\t\\t\\t\\t\\t</ul>\\r\\n\\t</div>\\r\\n\\t<a class=\"tb-thumb-right\"><i>&#xe632;</i></a>\\r\\n</div>\\r\\n\\t\\t\\t<p class=\"tm-action tm-clear\">\\n    <span id=\"J_EditItem\"></span>    \\n\\t\\t\\t        <a id=\"J_AddFavorite\" href=\"javascript:;\" data-aldurl=\"//ald.taobao.com/recommend.htm?appId=03136&itemId=43585489970 \" class=\"favorite\"><i></i><span>收藏商品</span></a>\\n\\t\\t\\t<!-- ruleBanner-->\\n\\t\\t\\t<script id=\"J_AddFavorite_Act\" type=\"text/template\">\\n\\t\\t\\t\\t<!--rullBanner ids:$ids true-->\\n\\n\\t\\t\\t</script>\\n\\t\\t\\t\\t<span id=\"J_CollectCount\"></span>    </p>\\t\\t</div>\\n    </div>\\n</div>\\n \\r\\n \\t<form id=\"J_FrmBid\" name=\"bidForm\" action=\"\" method=\"post\">\\r\\n        <input type=\"hidden\" name=\"title\" value=\"53度茅台迎宾酒500mlx6瓶整箱装酱香型白酒\" />\\r\\n\\t\\t<input type=\"hidden\" name=\"x_id\" value=\"\" />\\r\\n        <input type=\"hidden\" name=\"seller_id\" value=\"3be56c6aa032e599ade1be5ea1c40c1c\" />\\r\\n\\t\\t<input type=\"hidden\" name=\"seller_nickname\" value=\"天猫超市\" />\\r\\n                 <input type=\"hidden\" name=\"who_pay_ship\" value=\"平邮: 5.00元 \" />\\r\\n        <input type=\"hidden\" name=\"photo_url\" value= \"i2/98/O1CN012VyR2m1CavS6063wH_!!98-0-lubanu.jpg\" />        <input type=\"hidden\" name=\"region\" value=\"上海\" />    \\t<input type=\"hidden\" name=\"auto_post\" value=\"false\" />\\r\\n                \\t<input type=\"hidden\" name=\"etm\" value=\"post\" />\\r\\n                \\r\\n        <input type=\"hidden\" name=\"virtual\" value=\"false\" />\\r\\n    \\t<input type=\"hidden\" name=\"rootCatId\" value=\"50008141\" />    \\t\\r\\n\\t\\t<input type=\"hidden\" name=\"auto_post1\" value=\"\" />\\r\\n\\t\\t\\r\\n\\t\\t    \\t\\r\\n\\t\\t<input type=\"hidden\" id=\"buyer_from\" name=\"buyer_from\" value=\"\"/>\\r\\n\\t\\r\\n\\r\\n    </form>\\r\\n\\t\\t\\t<script>\\r\\nvar shopSearchStartTime = \"2016-11-10 10:00:00\";\\r\\nvar shopSearchEndTime = \"2016-11-12 10:00:00\";\\r\\n\\r\\nvar showCompanyPurchaseTips = true;\\r\\n\\r\\nvar _DATA_FAST_PUSH_ESI={aldRule:{min:80,max:99,mod:70},superDestory:[{\"selector\":\\'#sg-taobaoAssistant\\'},{\"selector\":\\'#sogouCollection\\'}]}\\r\\n</script>\\r\\n<script>\\r\\nif(Math.ceil(Math.random()*1000)==1){KISSY.getScript(\\'//g.tbcdn.cn/mm/doctor/1.2.11/icon.min.js\\')}\\r\\n</script>\\r\\n\\t<script>\\r\\n\\tTShop.poc(\\'buyshow\\');\\r\\n    (function () {\\r\\n\\t\\tTShop.setConfig({\\r\\n\\t\\tdetail:{\\r\\n\\t\\t\\t\"hideRightRecommend\": false ,\\r\\n\\t\\t\\t\"showBacktop\": true ,\\r\\n\\t\\t\\t\"showCartRecommend\": true ,\\r\\n\\t\\t\\t\"showTabbarRecommend\": true ,\\r\\n\\t\\t\\t\"showAlbumRecommend\": true , \\r\\n\\t\\t\\t\"showDownShelfRecommend\": true ,\\r\\n\\t\\t\\t\"showRightRecommend\": true ,\\r\\n\\t\\t\\t\"showStandardGuide\": true \\t\\t},\\r\\n\\t\\t\\n\\n\\n\\n\\t\\n\\n\\t\\n\"noSkipMode\":{\\n\\ttimeout : 8000,\\n\\ttradeResult:{\\n\\t\\tcartEnable: true ,\\n        cartType:2,\\n        tradeEnable:false ,\\n        tradeType: 2 ,\\n        tradeDisableTypeEnum:\"\"    }\\n\\t\\t},\\r\\n\\t\\t\\t\\t\"descAnchors\":[]\\r\\n\\t\\t\\t});\\r\\n\\t\\r\\n\\t  TShop.Setup(\\r\\n\\t  \\t{\"valLoginIndicator\":\"//buy.taobao.com/auction/buy.htm?from=itemDetail&id=43585489970\",\"isShowSizeRecommend\":false,\"isDoubleElevenItem\":true,\"isHouseholdService\":false,\"isSevenDaysRefundment\":false,\"apiBidCount\":\"//tbskip.taobao.com/json/show_bid_count.htm?itemNumId=43585489970&old_quantity=1530&date=1605250694000\",\"valTimeLeft\":340826,\"standingDate\":0,\"tradeParams\":{},\"api\":{\"descUrl\":\"//dscnew.taobao.com/i1/430/850/43585489970/TB1eB5FlNvbeK8jSZPf8quriXla.desc%7Cvar%5Edesc%3Bsign%5Eb25b6b6deb6dafb48e2ed6d068c5ed88%3Blang%5Egbk%3Bt%5E1605284576\",\"httpsDescUrl\":\"//descnew.taobao.com/i1/430/850/43585489970/TB1eB5FlNvbeK8jSZPf8quriXla.desc%7Cvar%5Edesc%3Bsign%5Eb25b6b6deb6dafb48e2ed6d068c5ed88%3Blang%5Egbk%3Bt%5E1605284576\",\"fetchDcUrl\":\"//hdc1new.taobao.com/asyn.htm?pageId=341658950&userId=725677994\"},\"tag\":{\"isShowMeiliXinde\":false,\"isMedical\":false,\"isRightRecommend\":true,\"isShowEcityIcon\":false,\"isShowYuanchuanIcon\":false,\"isBrandAttr\":true,\"isShowTryReport\":false,\"isAsynDesc\":true,\"isBrandSiteRightColumn\":true,\"isShowHouseIcon\":false},\"isService\":false,\"isTripUser\":false,\"cmCatId\":\"2\",\"cartEnable\":true,\"renderSystemServer\":\"//render.taobao.com\",\"carCascade\":false,\"isWTContract\":false,\"isOnlyInMobile\":false,\"isAreaSell\":true,\"isMultiPoint\":true,\"isShowSizeHelper\":false,\"isMeiz\":false,\"newSelectCityApi\":\"//mdskip.taobao.com/json/detailSelectCity.do?isAreaSell=true&itemId=43585489970\",\"initCspuExtraApi\":\"//ext-mdskip.taobao.com/extension/initCspuExtra.htm\",\"detail\":{\"isMemberShopItem\":false,\"isBundleItem\":false,\"canEditInItemDet\":true,\"isAllowReport\":true,\"isHiddenShopAction\":false,\"isDownShelf\":false,\"is0YuanBuy\":false,\"isCarService\":false,\"isShowEcityBasicSign\":false,\"isItemAllowSellerView\":true,\"goNewAuctionFlow\":false,\"isShowEcityVerticalSign\":false,\"reviewListType\":1,\"rxShowTitle\":\"本品为处方药，请在医师指导下使用。\",\"isVaccine\":false,\"isHasPos\":false,\"recommendBigMarkDownEndTime\":\"1477880000000\",\"isAutoYushou\":false,\"isOnePriceCar\":false,\"isVitual3C\":false,\"rxIcon\":\"https://gw.alicdn.com/tfs/TB13T_zHHrpK1RjSZTEXXcWAVXa-216-84.png\",\"isFullCarSell\":false,\"isHideAttentionBtn\":false,\"isNABundleItem\":false,\"double11StartTime\":\"\",\"showDiscountRecommend\":false,\"enableAliMedicalComponent\":true,\"isOtcDrug\":false,\"isYYZY\":false,\"mlhNewDesc\":false,\"isMainLiaoSku\":false,\"isHkMilk\":false,\"isEnableAppleSku\":true,\"isHkItem\":false,\"isShowContentModuleTitle\":false,\"isRx2Count\":true,\"isHiddenNonBuyprice\":false,\"isH5NewLogin\":true,\"isHkO2OItem\":false,\"isSavingEnergy\":false,\"showFushiPoiInfo\":false,\"defaultItemPrice\":\"899.00\",\"globalSellItem\":false,\"isShowEcityDesc\":false,\"isSkuColorShow\":false,\"autoccUser\":false,\"isMenDianInventroy\":false,\"isMeilihui\":false,\"isLadderGroupon\":false,\"isHidePoi\":false,\"isNewAttraction\":true,\"isPreSellBrand\":false,\"loginBeforeCart\":false,\"isAutoFinancing\":false,\"showSuperMarketBuy\":false,\"isPrescriptionDrug\":false,\"isHasQualification\":false,\"recommendBigMarkDownStartTime\":\"1478793600000\",\"pageType\":\"default\",\"isIFCShop\":false,\"isAlicomMasterCard\":false,\"isCarCascade\":false,\"isDianQiMeiJia\":false,\"isSkuMemorized\":false,\"addressLevel\":3,\"isRx2\":false,\"isTeMai\":false,\"allowRate\":true,\"isShowPreClosed\":false,\"isO2OStaging\":false,\"isPurchaseMallVipBuyer\":false,\"cdn75\":false,\"isNewMedical\":false,\"isCarYuEBao\":false,\"isCyclePurchase\":false,\"isAliTelecomNew\":false,\"show9sVideo\":true,\"isHkDirectSale\":false,\"isTspace\":false,\"tryReportDisable\":false,\"isB2Byao\":false,\"isRegionLevel\":true,\"isContractPhoneItem\":false,\"isYY\":false,\"supermarketAndQianggou\":false,\"isZhengChe\":false,\"isDianZiMendian\":false,\"isNextDayService\":true,\"timeKillAuction\":false},\"apiAddCart\":\"//cart.taobao.com/add_cart_item.htm?item_id=43585489970\",\"apiBeans\":\"//count.taobao.com/counter3?keys=SM_368_dsr-725677994,ICCP_1_43585489970\",\"idsMod\":[],\"initApi\":\"//mdskip.taobao.com/core/initItemDetail.htm?isUseInventoryCenter=true&cartEnable=true&service3C=false&isApparel=false&isSecKill=false&tmallBuySupport=true&isAreaSell=true&tryBeforeBuy=false&offlineShop=false&itemId=43585489970&showShopProm=false&isPurchaseMallPage=false&itemGmtModified=1605502240000&isRegionLevel=true&household=false&sellerPreview=false&queryMemberRight=true&addressLevel=3&isForbidBuyItem=false\",\"valPointTimes\":0.2,\"changeLocationApi\":\"//mdskip.taobao.com/core/changeLocation.htm?isUseInventoryCenter=true&cartEnable=true&sellerUserTag3=216806109434904736&service3C=false&sellerUserTag2=1170937140066910216&isSecKill=false&isAreaSell=true&sellerUserTag4=35596691079619&offlineShop=false&itemId=43585489970&sellerUserTag=39391266&showShopProm=false&tgTag=false&isPurchaseMallPage=false&isRegionLevel=true&household=false&notAllowOriginPrice=false&addressLevel=3\",\"isTmallComboSupport\":false,\"serviceIconList\":[],\"valPointRate\":0.1,\"tradeType\":2,\"valMode\":128,\"initExtraApi\":\"//ext-mdskip.taobao.com/extension/initExtra.htm\",\"itemDO\":{\"isInRepository\":false,\"isSupportTryBeforeBuy\":false,\"reservePrice\":\"899.00\",\"imgVedioPic\":\"https://img.alicdn.com/imgextra/i4/6000000003194/O1CN01dYnTdV1ZSteqeWAcw_!!6000000003194-0-tbvideo.jpg\",\"isSecondKillFromMobile\":false,\"cspuCategorySwitch\":false,\"isOnline\":true,\"title\":\"53度茅台迎宾酒500mlx6瓶整箱装酱香型白酒\",\"isEnterprisePath\":false,\"showCompanyPurchase\":false,\"isDcAsyn\":true,\"feature\":\"1\",\"attachImgUrl\":[],\"isElecCouponItem\":false,\"brandSiteId\":\"0\",\"brandSpecialSold\":\"false\",\"sellerNickName\":\"%E5%A4%A9%E7%8C%AB%E8%B6%85%E5%B8%82\",\"isSecondKillFromPC\":false,\"auctionType\":\"b\",\"encryptSellerId\":\"UMGIbMCcuOFk0\",\"prov\":\"上海\",\"brand\":\"茅台\",\"imgVedioUrl\":\"//cloud.video.taobao.com/play/u/725677994/p/1/e/1/t/8/279394481615.swf\",\"isDefaultChooseTryBeforeBuy\":false,\"quantity\":2282,\"isBidden\":false,\"hasSku\":false,\"isNewProGroup\":false,\"postFee\":\"满88(20Kg内)包邮\",\"weight\":\"7.1\",\"imgVedioID\":\"279394481615\",\"userId\":\"725677994\",\"rootCatId\":\"50008141\",\"itemId\":\"43585489970\",\"validatorUrl\":\"//store.taobao.com/tadget/shop_stats.htm\",\"isCustomizedItem\":false,\"auctionStatus\":\"0\",\"isSecondKillFromPCAndWap\":false,\"brandId\":\"4101168\",\"sellProgressiveRate\":\"3_100_1.60;6_0_4.50;9_0_6.00\",\"spuId\":\"991324951\",\"categoryId\":\"50008144\"},\"rateConfig\":{\"itemId\":43585489970,\"sellerId\":725677994,\"rateScoreCacheDisable\":false,\"rateSubjectDisable\":false,\"tryReportDisable\":false,\"rateScoreDisable\":false,\"rateEnable\":true,\"spuId\":991324951,\"rateNewChartDisable\":false,\"listType\":1,\"rateCloudDisable\":false},\"rstShopId\":67597230,\"tmallRateType\":0,\"selectRegionApi\":\"//mdskip.taobao.com/core/selectRegion.do?isAreaSell=true&itemId=43585489970\",\"apiItemViews\":\"//count.taobao.com/counter2?keys=ICVT_7_43585489970&inc=ICVT_7_43585489970&sign=646c25080cb274a00c3c709fee4e2f63837\",\"tagsId\":\"123905,18433,513,2049,3073,19457,34305,52737,249858,2562,6146,221697,113666,179713,470018,502786,508418,514050,517122,305154,4614,1547,2059,16395,18955,23563,1273858,1478146,1502210,1530370,1766402,1618946,1666562,1670146,93761,89665,96833,107585,111169,112193,37953,36417,20545,34369,48193,241218,247362,249922,222785,93250,137281,453186,455234,491074,281666,9286,4678,4166,364610,587,1611,2635,7755,1273922,1766466,1774146,1624130,1666626,84097,91777,115329,185474,22145,18049,19585,8833,51329,54401,2178,28802,200321,218241,222337,131713,189569,454786,508546,282754,288386,306306,351874,363650,1163,1675,651,22155,1503362,1322626,1434754,1709186,1779842,1702530,84673,37569,28353,243906,257730,57026,200897,104130,112322,165057,188609,189121,512706,282818,288962,299202,313026,354498,363714,4811,7371,23755,1240770,1297090,1562306,1346242,1411266,1721538,1681090,1686210,100609,120577,65281,28417,30977,37633,205570,217346,237826,249090,257794,258,215809,112386,162561,173313,192769,282882,292098,301314,363778,368386,542466,545026,7947,1286402,1477890,1481986,1562370,1563906,1391874,1708802,1733890,1771778,1703682,87361,92993,165186,36161,37697,39233,197954,257858,227137,141121,147777,170817,521538,3911,363842,364354,843,11083,1474370,1477954,1478466,1511746,1346882,1619266,1686850,101761,87425,106881,112001,143746,175490,35713,234370,257922,206209,206721,214401,217985,101762,132481,186753,191873,282498,287106,296322,297858,3974,7046,336258,363906,369026,371074,539522,2443,4491,23947,1478018,1478530,1505154,1519490,1354626,1769346,1771394,1783170,1644930,1684354,67521,148418,170946,33217,8641,40897,41409,59841,250306,257986,21442,155073,113602,188865,189889,467394,504258,282562,299458,302530,304066,4550,1478,363970,531906,1995,2507,6603,1253314,1254338,1310146,1497538,1766850,1666498,1678274,1691586,1702850\",\"url\":{\"tbskip\":\"//tbskip.taobao.com\",\"mdskip\":\"//mdskip.taobao.com\",\"tradeForOldTmallBuy\":\"//stay.buy.tmall.com/order/confirm_order.htm\",\"tgDetailDomain\":\"//detail.ju.taobao.com\",\"detailServer\":\"//detail.taobao.com\",\"buyBase\":\"//buy.taobao.com/auction\",\"mallList\":\"//list.tmall.com\",\"extMdskip\":\"//ext-mdskip.taobao.com\",\"xCrossServer\":\"//mdetail.tmall.com\",\"tgDomain\":\"//ju.taobao.com\",\"rate\":\"//rate.tmall.com\",\"tradeBaseUrl\":\"//trade.taobao.com/trade\",\"topUploadServerBaseUrl\":\"//upload.taobao.com\",\"BIDRedirectionitemDomain\":\"//paimai.taobao.com\"},\"tradeConfig\":{\"1\":\"//buy.taobao.com/auction/buy_now.jhtml\",\"2\":\"//buy.tmall.com/order/confirm_order.htm\",\"3\":\"//obuy.tmall.com/home/order/confirm_order.htm\",\"4\":\"\",\"7\":\"//tw.taobao.com/buy/auction/buy_now.jhtml\"},\"valCartInfo\":{\"itemId\":\"43585489970\",\"cartUrl\":\"//cart.taobao.com/my_cart.htm?from=bdetail\",\"statsUrl\":\"//go.mmstat.com/1.gif?logtype=2&category=cart_{loc}_50008144\"},\"isAliTripHK\":false,\"selectCityApi\":\"//mdskip.taobao.com/core/selectCity.htm?isAreaSell=true&itemId=43585489970\",\"getProgressiveInfoApi\":\"//mdskip.taobao.com/core/getProgressiveInfo.do?platform_type=b2c&fromTryBeforeBuy=false&sellerId=725677994&platform=tmall&category=50008144&sellerPercent=3_100_1.60;6_0_4.50;9_0_6.00\"}\\r\\n\\t  );\\r\\n})();\\r\\n</script>\\r\\n\\r\\n\\n</div>\\n\\n    <div id=\"J_ShopPromtion\"><!-- --></div><div id=\"bd\">\\n    <div class=\"layout grid-s5m0\">\\n        <div class=\"col-main tm-clear clearfix\">\\n            <div id=\"mainwrap\" class=\"main-wrap\">\\n\\t\\t\\t\\t<div id=\"J_TabBarBox\"><ul id=\"J_TabBar\" class=\"tabbar tm-clear\"></ul></div>\\r\\n                <div id=\"attributes\" class=\"attributes\">\\n                    <div id=\"J_Shoppromotions\"></div>\\n                                            <div class=\"j-mdv tm-detail-slide\" mdv-cls=\"malldetail/view/udpSlideBlock\" mdv-cfg=\\'{\"id\":\"201505273\", \"sellerId\": \"725677994\"}\\'></div>\\n                    \\t\\t\\t\\t                                       </div>\\n                <div id=\"mall-banner\">\\n                </div>\\n                                <div id=\"J_DcTopRightWrap\">\\r\\n\\t\\t\\t<div id=\"J_DcTopRight\" class=\"J_DcAsyn tb-shop\"></div>\\r\\n\\t</div>                                 <div id=\"description\" class=\"J_DetailSection tshop-psm tshop-psm-bdetaildes\">\\n\\t<h4 class=\"hd\">商品详情</h4>\\n        <div class=\"content ke-post\">\\n\\t描述加载中\\t</div>\\n </div>\\n\\n\\n                                <div id=\"J_DcBottomRightWrap\">\\r\\n\\t\\t\\t<div id=\"J_DcBottomRight\" class=\"J_DcAsyn tb-shop\"></div>\\r\\n\\t\\r\\n    <div id=\"J_ZebraPriceDesc\" class=\"j-mdv\" mdv-cls=\"malldetail/view/zebraBlock\" mdv-cfg=\"{zebraId:\\'pricedesc_pc\\',append:true,catId:50008144 }\"></div>\\r\\n\\t</div>                <div id=\"J_Detail\">\\n\\t\\t\\t\\t\\t\\t\\t\\t\\t\\t\\t<div id=\"J_Reviews\" class=\"J_DetailSection\">\\r\\n\\t\\t<h4 class=\"hd\">累计评价 <em class=\"J_ReviewsCount\"></em></h4>\\r\\n\\t</div>\\r\\n\\n\\t\\t\\t\\t\\t                    \\n\\t\\t\\t\\t\\t\\t\\t\\t\\t\\t\\t<div id=\"J_SellerInfo\" class=\"J_DetailSection tb-sellerinfo\" data-url=\"//ext-mdskip.taobao.com/extension/seller_info.htm?user_num_id=725677994&user_tag=39391266&shop_start=1309243733000\">\\r\\n\\t   \\t<h5 class=\"hd\">店铺30天服务情况</h5>\\r\\n\\t    \\t</div>\\r\\n\\n\\t\\t\\t\\t\\t\\t\\t\\t\\t\\t     <div id=\"J_chaoshiService\" class=\"j-mdv J_DetailSection\" mdv-cls=\"malldetail/view/zebraBlock\" mdv-cfg=\"{zebraId:\\'service_panel_cs\\',append:true}\">\\n         <h4 class=\"hd\">售后服务</h4>\\n     </div>\\n\\t\\t\\t\\t\\t\\t\\t\\t\\t\\t<div id=\\'official-remind\\' class=\"j-mdv\" mdv-cls=\"malldetail/view/zebraBlock\" mdv-cfg=\"{zebraId:\\'official_remind\\'}\"></div>                </div>\\n            </div>\\n        </div>\\n\\t\\t        <div class=\"col-sub\">\\n    <div class=\"j-mdv tm-detail-chaoshibanner\" mdv-cls=\"malldetail/view/udpBlock\" mdv-cfg=\\'{\"id\":\"201505271\", \"sellerId\": \"725677994\"}\\'></div>\\n    <div class=\"tm-chaoshi-hot J_CSRecommend\"></div>\\n</div>    </div>\\n</div>\\n\\n<script>function loadAtBrowse(){var cImg = document.createElement(\\'img\\');cImg.src = \"//ju.mmstat.com/?url=http://www.atpanel.com?ad_id=&am_id=&cm_id=&pm_id=1500072688f691927a1e\";return true;}</script>\\n<div id=\"LineZing\" pagetype=\"2\" shopid=\"101717810\" tmplid=\"1123832\" itemid=\"16929898127\"></div>\\n<script>\\n    KISSY.ready(function(S){\\n        var Win = window;\\n        var now = S.now();\\n        var timestamp = now - now%3600000;\\n        var appId = Win.g_config.appId;\\n\\n                    Win[\"UA_Opt\"] = {\\n                LogVal : \"UA_Val\",\\n                MaxMCLog : 10,\\n                MaxKSLog : 10,\\n                MaxMPLog : 10,\\n                MaxFocusLog : 1,\\n                Token : new Date().getTime() + \":\" + Math.random(),\\n                SendMethod : 8,\\n                Flag : 12430\\n            }\\n                Win[\"UA_Val\"] = \"\";\\n        Win[\"getUA\"] = function(){\\n            var tmp = Win[\"UA_Val\"];\\n            UA_Opt.Token= new Date().getTime() + \":\" + Math.random();\\n            UA_Opt.reload();\\n            return tmp;\\n        }\\n\\n        S.getScript(\"//uaction.alicdn.com/js/ua.js?\"+timestamp, function(){\\n            try{\\n                getUA();\\n                document.cookie=\"pnm_cku822=\"+ encodeURIComponent(Win.getUA())+\";path=/\";\\n            }catch(err){}\\n        });\\n    });\\n</script>\\n<script>setTimeout(function() {if (typeof(window.bat) == \\'undefined\\') {var _script = document.createElement(\\'script\\');_script.src = \\'//fragment.tmall.com/feeds/bat\\';_script.onload = _script.onreadystatechange = function(){if(window.bat){window.bat.batTrack(\"cdn.err\",\"bat\",{type:\"error\",msg:\"url,\"+window.location.href})}else{new Image().src = \"//gm.mmstat.com/tmalldetail.bat.cdn_pc_error\";}};document.getElementsByTagName(\\'head\\')[0].appendChild(_script);}},20000);</script>\\n\\n</div>                                     </div>\\n                    <div id=\"footer\" data-spm=\"a2226n1\" class=\"tm-chn-chaoshi-footer \">\\n            \\n                <div id=\"tmall-desc\">\\n                            <style>\\n\\n    @media (max-width: 1280px) {\\n    #tmall-ensure {\\n        width:990px !important;\\n        background-image: url(//img.alicdn.com/tps/i2/T1vYemFC0eXXcnC4Lh-990-100.jpg)\\n    }\\n\\n    #tmall-ensure a {\\n        width: 247px\\n    }\\n\\n    #tmall-desc {\\n        width:990px !important;\\n        background-position: 12px bottom;\\n    }\\n\\n    #tmall-desc dl {\\n        padding-left: 15px;\\n        width: 200px\\n    }\\n\\n    #tmall-desc #mobile {\\n        width: 110px\\n    }\\n\\n    #tmall-copyright .footer-tmallinfo,#tmall-copyright .footer-otherlink,#tmall-copyright .footer-copyright {\\n        width: 990px\\n    }\\n}\\n\\n</style>\\n<img src=\"//gw.alicdn.com/tfs/TB1wr5SmUY1gK0jSZFMXXaWcVXa-336-120.png\" class=\"logo\" width=\"112px\" height=\"40px\"/>\\n<dl id=\"beginner\">\\n    <dt><span><a href=\"//www.tmall.com/wow/chaoshi/act/help-gouwuzhinan?spm=a312d.7832034.0.0.Fe3sLx\">购物指南</a></span></dt>\\n    <dd>\\n        <a href=\"//www.tmall.com/wow/chaoshi/act/help-gouwuzhinan?spm=a312d.7832034.0.0.Fe3sLx#dh1\" target=\"_blank\"><i></i>购物流程</a>\\n        <a class=\"chaoshi-highlight\" href=\"//service.tmall.com/support/tmall/knowledge-1137790.htm?spm=a3204.7843358.5906693.23.CIA5Jh\"><i></i>配送时效说明</a>\\n        <a class=\"chaoshi-highlight\" href=\"//service.tmall.com/support/tmall/knowledge-1137790.htm?spm=a3204.7843358.5906693.23.CIA5Jh\"><i></i>配送区域及费用</a>\\n        <a class=\"chaoshi-highlight\" href=\"//service.tmall.com/support/tmall/knowledge-5695577.htm\" target=\"_blank\"><i></i>购买生鲜须知</a>\\n        <a href=\"//service.tmall.com/support/tmall/knowledge-5529465.htm?spm=a3204.7843358.5906693.28.s3noiz\" target=\"_blank\"><i></i>发票流程</a>\\n        <a href=\"//service.tmall.com/support/tmall/knowledge-22053758.htm\" target=\"_blank\"><i></i>商品限购说明</a>\\n    </dd>\\n</dl>\\n<dl id=\"saleservice\">\\n    <dt><span><a href=\"//www.tmall.com/wow/chaoshi/act/help-shouhoufuwu?spm=a3204.7843358.5906693.8.pmRqaP\">售后服务</a></span></dt>\\n    <dd>\\n        <a href=\"//service.tmall.com/support/tmall/knowledge-1137792.htm?spm=a3204.7843371.5906693.9.qfbQpn\" target=\"_blank\"><i></i>退货规则</a>\\n        <a href=\"//www.tmall.com/wow/chaoshi/act/help-shouhoufuwu?spm=a3204.7843358.5906693.8.pmRqaP#dh3\" target=\"_blank\"><i></i>退货指南</a>\\n        <a href=\"//service.tmall.com/support/tmall/knowledge-5415346.htm\" target=\"_blank\"><i></i>保质期说明</a>\\n        <a href=\"//service.tmall.com/support/tmall/knowledge-5650874.htm\" target=\"_blank\"  style=\"white-space: nowrap;width: 103px;\"><i></i>联系客服</a>\\n    </dd>\\n</dl>\\n<dl id=\"payment\">\\n    <dt><span><a href=\"//www.tmall.com/wow/chaoshi/act/help-zizhufuwu?spm=a3204.7843371.5906693.13.wz4NsW\">自助服务</a></span></dt>\\n    <dd>\\n        <a href=\"//trade.taobao.com/trade/itemlist/list_bought_items.htm\" target=\"_blank\"><i></i>订单物流查询</a>\\n        <a href=\"//chaoshi.tmall.com/cart/my_cart.htm?spm=3.405264.0.791.Bg1frD&tp_id=725677994\" target=\"_blank\"><i></i>我的购物车</a>\\n        <a href=\"//ecrm.taobao.com/mallcoupon/got_bonus.htm?spm=a1z09.2.a2109.d1000376.pIvZYG&nekot=1366359455986\" target=\"_blank\"><i></i>我的现金券</a>\\n        <a href=\"//service.tmall.com/support/tmall/knowledge-5529466.htm\" target=\"_blank\"><i></i>购物常见问题</a>\\n        <a class=\"chaoshi-highlight\" href=\"//feedback.taobao.com/pc/feedbacks?productId=335&source=chaoshi.tmall\" target=\"_blank\"><i></i>建议反馈</a>\\n    </dd>\\n</dl>\\n\\n<dl id=\"about\">\\n    <dt><span><a href=\"//www.tmall.com/wow/chaoshi/act/help-shangjiafuwu?spm=a3204.7843387.5906693.19.Wzlo6D\">商家服务</a></span></dt>\\n    <dd>\\n        <a href=\"//service.tmall.com/support/tmall/knowledge-1137800.htm\" target=\"_blank\"><i></i>关于天猫超市</a>\\n        <a class=\"chaoshi-highlight\" href=\"//www.tmall.com/wow/chaoshi/act/chaoshi-rjru\" target=\"_blank\"><i></i>入驻天猫超市</a>\\n        <a href=\"//www.tmall.com/wow/chaoshi/act/help-shangjiafuwu?spm=a3204.7843387.5906693.19.Wzlo6D#dh3\" target=\"_blank\"><i></i>商家常见问题</a>\\n        <a href=\"//open.hemaos.com/\" target=\"_blank\"><i></i>淘鲜达招商</a>\\n    </dd>\\n</dl>\\n\\n<dl class=\"tmall-mobile\" id=\"mobile\">\\n    <dt>随时随地逛</dt>\\n    <dd>\\n        <a href=\"//chaoshi.m.tmall.com/\" class=\"join\"><img src=\"//gtms03.alicdn.com/tps/i3/T1zuSAFRJbXXaSJVsE-115-115.png\" alt=\"随时随地逛\"/></a>\\n    </dd>\\n</dl>\\n                    </div>\\n        <div id=\"tmall-copyright\">\\n            <div class=\"mui-global-fragment-load\" data-fragment=\"tmbase/mui_footer_link\"></div>\\n        </div>\\n            <!-- global footer 2019 -->\\n        <div id=\"server-num\">malldetail033005142226.center.na610</div>\\n</div>\\n</div>\\n\\n</body>\\n</html>'"
      ]
     },
     "execution_count": 15,
     "metadata": {},
     "output_type": "execute_result"
    }
   ],
   "source": [
    "data"
   ]
  },
  {
   "cell_type": "code",
   "execution_count": 16,
   "metadata": {},
   "outputs": [],
   "source": [
    "#设定爬虫目标网址\n",
    "url2 = 'https://rate.tmall.com/list_detail_rate.htm?itemId=43585489970&spuId=991324951&sellerId=725677994&order=3&currentPage=1&append=0&content=1&tagId=&posi=&picture=&ua=098%23E1hv%2BpvUvbpvUvCkvvvvvjiWP25p6jYjP2zhsj1VPmP9sjrbP2MOsjnHn2SOtjrUi9hvCvvv9U8UvpvVmvvC9j3Ruvhvmvvv9bubNhdHKvhv8vvvvUtvpvLevvmvwZCvmUgvvvWvphvW9pvvvQCvpvs9vvvmFZCv2E9UvpCW2246vvw%2F1nAQ0fJ6EvLvYN79r1OKvwFpGwmZ5oEpDO7rqbVQWl4v1n2Iy2Wl7gzBif6zH2pOS4LrsfK6nHJ3Ib0ySfh3Zi7vQR9t%2B9vCvvOvCvvvphvRvpvhvv2MMs9Cvvpvvvvv&isg=BMXFOdlBNvUXJBIpFNf7PHzx1AH_gnkUf9WkXccqgfwIXuXQj9KJ5FO8aIOoHpHM&_ksTS=1605444802277_374&callback=jsonp375'"
   ]
  },
  {
   "cell_type": "code",
   "execution_count": 17,
   "metadata": {},
   "outputs": [],
   "source": [
    "#直接发起数据请求\n",
    "data = requests.get(url2).text"
   ]
  },
  {
   "cell_type": "code",
   "execution_count": 18,
   "metadata": {},
   "outputs": [
    {
     "data": {
      "text/plain": [
       "'\\r\\n\\r\\njsonp375({\"rgv587_flag\":\"sm\",\"url\":\"https://login.taobao.com/member/login.jhtml?style=mini&from=sm&full_redirect=false&redirectURL=https%3a%2f%2frate.tmall.com:443/list_detail_rate.htm/_____tmd_____/punish%3fx5secdata=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%26x5step=100\"})'"
      ]
     },
     "execution_count": 18,
     "metadata": {},
     "output_type": "execute_result"
    }
   ],
   "source": [
    "data"
   ]
  },
  {
   "cell_type": "code",
   "execution_count": 19,
   "metadata": {},
   "outputs": [],
   "source": [
    "#看不到评论，因为天猫很聪明，知道你是爬虫不是浏览器，我们要伪装自己\n",
    "#需要3个东西来伪装自己,referer, user-agent和cookies\n",
    "#全都在Requests Headers里面\n",
    "headers ={\n",
    "    #从哪个页面发出的数据申请，每个网站可能略有不同\n",
    "    'referer' : 'https://chaoshi.detail.tmall.com/item.htm?spm=a220m.1000858.1000725.11.4dbf273576uDEb&id=43585489970&user_id=725677994&cat_id=2&is_b=1&rn=d87b9a58db1e3e851c72f74cf67f4c8d',\n",
    "    #用的哪个浏览器\n",
    "    'user-agent' : 'Mozilla/5.0 (Windows NT 10.0; Win64; x64) AppleWebKit/537.36 (KHTML, like Gecko) Chrome/86.0.4240.183 Safari/537.36',\n",
    "    #哪个用户想要看数据，是游客还是注册用户,建议使用登录后的cookie;\n",
    "    'cookie': 't=105de1c7a19d3bde4e7f6a09716b5b65; _tb_token_=e9113be33567e; cookie2=121ba83c8d3334c7c358d57f6311d737; cna=jBM5GNdy4RUCAXckViQSceHP; xlly_s=1; _m_h5_tk=27cb0a41ca9be33c92db5bab66f3a2a9_1605518539582; _m_h5_tk_enc=f5860f2ed864cd5fc90c94727a75cdbf; sm4=420100; dnk=%5Cu7B11%5Cu800C%5Cu4E0D%5Cu8BED%5Cu662F%5Cu6700%5Cu597D%5Cu7684%5Cu6C89%5Cu9ED8; uc1=cookie14=Uoe0aDmU%2F5LwmQ%3D%3D&pas=0&cookie16=WqG3DMC9UpAPBHGz5QBErFxlCA%3D%3D&cookie21=WqG3DMC9Fb5mPLIQo9kR&cookie15=U%2BGCWk%2F75gdr5Q%3D%3D&existShop=false; uc3=nk2=sy5rp7ZHqVqWikRCS6tBQ8lD5BI%3D&vt3=F8dCufwuO%2BW0DLOc2yU%3D&lg2=U%2BGCWk%2F75gdr5Q%3D%3D&id2=UU26%2F3ap9LRILw%3D%3D; tracknick=%5Cu7B11%5Cu800C%5Cu4E0D%5Cu8BED%5Cu662F%5Cu6700%5Cu597D%5Cu7684%5Cu6C89%5Cu9ED8; lid=%E7%AC%91%E8%80%8C%E4%B8%8D%E8%AF%AD%E6%98%AF%E6%9C%80%E5%A5%BD%E7%9A%84%E6%B2%89%E9%BB%98; uc4=id4=0%40U2%2F9rC7egn6%2F3okI%2F%2F2GrjvF8yCp&nk4=0%40sVGnefrOxaKLoYMj4WsJQUpO6BGKNTnKWsAgaoKIEg%3D%3D; _l_g_=Ug%3D%3D; unb=2583810900; lgc=%5Cu7B11%5Cu800C%5Cu4E0D%5Cu8BED%5Cu662F%5Cu6700%5Cu597D%5Cu7684%5Cu6C89%5Cu9ED8; cookie1=AnPABYW0ZnxREapDGX%2FTjGWbu%2FxxMLKx93FzS54Gu6k%3D; login=true; cookie17=UU26%2F3ap9LRILw%3D%3D; _nk_=%5Cu7B11%5Cu800C%5Cu4E0D%5Cu8BED%5Cu662F%5Cu6700%5Cu597D%5Cu7684%5Cu6C89%5Cu9ED8; sgcookie=E100BX7QvaoVLa4i%2FBxHSwLIX37Ehalt0GCmh7iDCfx0sKs1KPYVcckf5WTiyz%2BU%2B%2BN%2FkQf3UWyw5ZYj7PEGpop95A%3D%3D; sg=%E9%BB%9802; csg=897c36ba; tfstk=ciYfBO43w-2f7SiauIGPga0XD1bfZuH5Zm6vGnQuKfQbXpRfiO4Fd_PDj84Rv_1..; l=eBIhw7GHOG6d4hVUBOfaourza77TxIRvnuPzaNbMiOCPOQ5J5owPWZ7VFwYvCnhchstJR3Aj0APzBeYBqCqgx6aZUR-DrUDmn; isg=BFpa_2Bz0eenTV1LsYbPfOocqwB8i95l7OyrPGTTTe271_oRTBkRdDcppqLLLVb9',\n",
    "}"
   ]
  },
  {
   "cell_type": "code",
   "execution_count": 21,
   "metadata": {},
   "outputs": [
    {
     "data": {
      "text/plain": [
       "'\\r\\njsonp375({\"rateDetail\":{\"rateCount\":{\"total\":2263,\"shop\":0,\"picNum\":391,\"used\":135},\"rateDanceInfo\":{\"storeType\":4,\"currentMilles\":1605514683777,\"showChooseTopic\":false,\"intervalMilles\":33290186540},\"rateList\":[{\"auctionPicUrl\":\"\",\"userInfo\":\"\",\"displayRatePic\":\"\",\"dsr\":0,\"displayRateSum\":0,\"appendComment\":null,\"fromMemory\":0,\"picsSmall\":[],\"tmallSweetPic\":\"\",\"rateDate\":\"2020-11-14 15:28:39\",\"rateContent\":\"多次购买了，很好，值得购买\",\"fromMall\":true,\"userIdEncryption\":\"\",\"sellerId\":725677994,\"videoList\":[],\"displayUserLink\":\"\",\"id\":1110869750718,\"aliMallSeller\":false,\"reply\":\"\",\"pics\":[\"//img.alicdn.com/bao/uploaded/i3/O1CN015gY19R1Zh5wsijl72_!!0-rate.jpg\",\"//img.alicdn.com/bao/uploaded/i3/O1CN01LrCAtu1Zh5wv4FE0i_!!0-rate.jpg\"],\"buyCount\":0,\"userVipLevel\":0,\"auctionSku\":\"\",\"anony\":false,\"displayUserNumId\":0,\"goldUser\":true,\"attributesMap\":null,\"tradeEndTime\":{\"date\":14,\"hours\":15,\"seconds\":30,\"month\":10,\"timezoneOffset\":-480,\"year\":120,\"minutes\":27,\"time\":1605338850000,\"day\":6},\"headExtraPic\":\"\",\"aucNumId\":0,\"displayUserNick\":\"t***2\",\"structuredRateList\":[],\"carServiceLocation\":\"\",\"userVipPic\":\"\",\"serviceRateContent\":\"\",\"memberIcon\":\"\",\"attributes\":\"\",\"position\":\"920-11-9,13;920-11-6,8;\",\"cmsSource\":\"天猫\",\"tamllSweetLevel\":0,\"gmtCreateTime\":{\"date\":14,\"hours\":15,\"seconds\":39,\"month\":10,\"timezoneOffset\":-480,\"year\":120,\"minutes\":28,\"time\":1605338919000,\"day\":6},\"useful\":true,\"displayUserRateLink\":\"\"},{\"auctionPicUrl\":\"\",\"userInfo\":\"\",\"displayRatePic\":\"\",\"dsr\":0,\"displayRateSum\":0,\"appendComment\":null,\"fromMemory\":0,\"picsSmall\":[],\"tmallSweetPic\":\"tmall-grade-t3-18.png\",\"rateDate\":\"2020-11-04 19:30:36\",\"rateContent\":\"服务非常到位，提前打电话沟通送货时间。 口感味道：酒香味浓，颜色微微发黄，口感好。\",\"fromMall\":true,\"userIdEncryption\":\"\",\"sellerId\":725677994,\"videoList\":[],\"displayUserLink\":\"\",\"id\":1107172616107,\"aliMallSeller\":false,\"reply\":\"\",\"pics\":[\"//img.alicdn.com/bao/uploaded/i2/O1CN01iekwqw1aJZDR3mvfL_!!0-rate.jpg\"],\"buyCount\":0,\"userVipLevel\":0,\"auctionSku\":\"\",\"anony\":true,\"displayUserNumId\":0,\"goldUser\":true,\"attributesMap\":null,\"tradeEndTime\":{\"date\":4,\"hours\":19,\"seconds\":12,\"month\":10,\"timezoneOffset\":-480,\"year\":120,\"minutes\":25,\"time\":1604489112000,\"day\":3},\"headExtraPic\":\"\",\"aucNumId\":0,\"displayUserNick\":\"可***七\",\"structuredRateList\":[],\"carServiceLocation\":\"\",\"userVipPic\":\"\",\"serviceRateContent\":\"\",\"memberIcon\":\"\",\"attributes\":\"\",\"position\":\"111;342-11-25,29;10120-11-0,6;420-12-7,18;642-13-30,36;242-12-20,24;242-11-37,40;10061002-13-30,36;10101017-11-19,29;10021018-11-0,6;10231014-11-37,40;\",\"cmsSource\":\"天猫\",\"tamllSweetLevel\":3,\"gmtCreateTime\":{\"date\":4,\"hours\":19,\"seconds\":36,\"month\":10,\"timezoneOffset\":-480,\"year\":120,\"minutes\":30,\"time\":1604489436000,\"day\":3},\"useful\":true,\"displayUserRateLink\":\"\"},{\"auctionPicUrl\":\"\",\"userInfo\":\"\",\"displayRatePic\":\"\",\"dsr\":0,\"displayRateSum\":0,\"appendComment\":null,\"fromMemory\":0,\"picsSmall\":[],\"tmallSweetPic\":\"tmall-grade-t4-18.png\",\"rateDate\":\"2020-11-14 12:33:37\",\"rateContent\":\"很好，价格实惠好。\",\"fromMall\":true,\"userIdEncryption\":\"\",\"sellerId\":725677994,\"videoList\":[],\"displayUserLink\":\"\",\"id\":1110838098356,\"aliMallSeller\":false,\"reply\":\"\",\"pics\":[],\"buyCount\":0,\"userVipLevel\":0,\"auctionSku\":\"\",\"anony\":false,\"displayUserNumId\":0,\"goldUser\":false,\"attributesMap\":null,\"tradeEndTime\":{\"date\":14,\"hours\":12,\"seconds\":25,\"month\":10,\"timezoneOffset\":-480,\"year\":120,\"minutes\":33,\"time\":1605328405000,\"day\":6},\"headExtraPic\":\"\",\"aucNumId\":0,\"displayUserNick\":\"t***3\",\"structuredRateList\":[],\"carServiceLocation\":\"\",\"userVipPic\":\"\",\"serviceRateContent\":\"\",\"memberIcon\":\"\",\"attributes\":\"\",\"position\":\"111;\",\"cmsSource\":\"天猫\",\"tamllSweetLevel\":4,\"gmtCreateTime\":{\"date\":14,\"hours\":12,\"seconds\":37,\"month\":10,\"timezoneOffset\":-480,\"year\":120,\"minutes\":33,\"time\":1605328417000,\"day\":6},\"useful\":true,\"displayUserRateLink\":\"\"},{\"auctionPicUrl\":\"\",\"userInfo\":\"\",\"displayRatePic\":\"\",\"dsr\":0,\"displayRateSum\":0,\"appendComment\":null,\"fromMemory\":0,\"picsSmall\":[],\"tmallSweetPic\":\"tmall-grade-t1-18.png\",\"rateDate\":\"2020-11-14 22:27:34\",\"rateContent\":\"很好，真酒\",\"fromMall\":true,\"userIdEncryption\":\"\",\"sellerId\":725677994,\"videoList\":[],\"displayUserLink\":\"\",\"id\":1110566361782,\"aliMallSeller\":false,\"reply\":\"\",\"pics\":[],\"buyCount\":0,\"userVipLevel\":0,\"auctionSku\":\"\",\"anony\":true,\"displayUserNumId\":0,\"goldUser\":true,\"attributesMap\":null,\"tradeEndTime\":{\"date\":14,\"hours\":22,\"seconds\":37,\"month\":10,\"timezoneOffset\":-480,\"year\":120,\"minutes\":24,\"time\":1605363877000,\"day\":6},\"headExtraPic\":\"\",\"aucNumId\":0,\"displayUserNick\":\"人***约\",\"structuredRateList\":[],\"carServiceLocation\":\"\",\"userVipPic\":\"\",\"serviceRateContent\":\"\",\"memberIcon\":\"\",\"attributes\":\"\",\"position\":\"111;\",\"cmsSource\":\"天猫\",\"tamllSweetLevel\":1,\"gmtCreateTime\":{\"date\":14,\"hours\":22,\"seconds\":34,\"month\":10,\"timezoneOffset\":-480,\"year\":120,\"minutes\":27,\"time\":1605364054000,\"day\":6},\"useful\":true,\"displayUserRateLink\":\"\"},{\"auctionPicUrl\":\"\",\"userInfo\":\"\",\"displayRatePic\":\"\",\"dsr\":0,\"displayRateSum\":0,\"appendComment\":null,\"fromMemory\":0,\"picsSmall\":[],\"tmallSweetPic\":\"\",\"rateDate\":\"2020-11-07 10:18:51\",\"rateContent\":\"口感味道：酒香醇厚，物超所值，第二天就收到了。谢谢店家！\",\"fromMall\":true,\"userIdEncryption\":\"\",\"sellerId\":725677994,\"videoList\":[],\"displayUserLink\":\"\",\"id\":1108465308470,\"aliMallSeller\":false,\"reply\":\"\",\"pics\":[],\"buyCount\":0,\"userVipLevel\":0,\"auctionSku\":\"\",\"anony\":false,\"displayUserNumId\":0,\"goldUser\":false,\"attributesMap\":null,\"tradeEndTime\":{\"date\":7,\"hours\":10,\"seconds\":1,\"month\":10,\"timezoneOffset\":-480,\"year\":120,\"minutes\":14,\"time\":1604715241000,\"day\":6},\"headExtraPic\":\"\",\"aucNumId\":0,\"displayUserNick\":\"t***1\",\"structuredRateList\":[],\"carServiceLocation\":\"\",\"userVipPic\":\"\",\"serviceRateContent\":\"\",\"memberIcon\":\"\",\"attributes\":\"\",\"position\":\"242-12-0,4;10120-12-23,27;342-11-5,9;520-11-10,14;242-11-5,9;10001013-11-10,14;10171014-11-0,9;\",\"cmsSource\":\"天猫\",\"tamllSweetLevel\":0,\"gmtCreateTime\":{\"date\":7,\"hours\":10,\"seconds\":51,\"month\":10,\"timezoneOffset\":-480,\"year\":120,\"minutes\":18,\"time\":1604715531000,\"day\":6},\"useful\":true,\"displayUserRateLink\":\"\"},{\"auctionPicUrl\":\"\",\"userInfo\":\"\",\"displayRatePic\":\"\",\"dsr\":0,\"displayRateSum\":0,\"appendComment\":null,\"fromMemory\":0,\"picsSmall\":[],\"tmallSweetPic\":\"tmall-grade-t2-18.png\",\"rateDate\":\"2020-11-07 16:04:25\",\"rateContent\":\"酒液质量：质量不错 整体评价：物有所值 包装品质：挺漂亮 外观品相：送礼挺好的 口感味道：不错\",\"fromMall\":true,\"userIdEncryption\":\"\",\"sellerId\":725677994,\"videoList\":[],\"displayUserLink\":\"\",\"id\":1108967685669,\"aliMallSeller\":false,\"reply\":\"\",\"pics\":[],\"buyCount\":0,\"userVipLevel\":0,\"auctionSku\":\"\",\"anony\":false,\"displayUserNumId\":0,\"goldUser\":true,\"attributesMap\":null,\"tradeEndTime\":{\"date\":4,\"hours\":10,\"seconds\":7,\"month\":10,\"timezoneOffset\":-480,\"year\":120,\"minutes\":15,\"time\":1604456107000,\"day\":3},\"headExtraPic\":\"\",\"aucNumId\":0,\"displayUserNick\":\"常***春\",\"structuredRateList\":[],\"carServiceLocation\":\"\",\"userVipPic\":\"\",\"serviceRateContent\":\"\",\"memberIcon\":\"\",\"attributes\":\"\",\"position\":\"111;220-12-20,24;520-11-15,19;920-11-34,39;920-11-45,47;620-12-0,4;920-12-10,14;920-11-25,28;242-12-40,44;620-11-5,9;10001013-11-0,43;10031004-11-0,43;10231014-11-0,43;10011004-11-0,43;10281026-11-0,43;\",\"cmsSource\":\"天猫\",\"tamllSweetLevel\":2,\"gmtCreateTime\":{\"date\":7,\"hours\":16,\"seconds\":25,\"month\":10,\"timezoneOffset\":-480,\"year\":120,\"minutes\":4,\"time\":1604736265000,\"day\":6},\"useful\":true,\"displayUserRateLink\":\"\"},{\"auctionPicUrl\":\"\",\"userInfo\":\"\",\"displayRatePic\":\"\",\"dsr\":0,\"displayRateSum\":0,\"appendComment\":null,\"fromMemory\":0,\"picsSmall\":[],\"tmallSweetPic\":\"\",\"rateDate\":\"2020-11-03 00:31:39\",\"rateContent\":\"真酒 不错\",\"fromMall\":true,\"userIdEncryption\":\"\",\"sellerId\":725677994,\"videoList\":[],\"displayUserLink\":\"\",\"id\":1107855479693,\"aliMallSeller\":false,\"reply\":\"\",\"pics\":[\"//img.alicdn.com/bao/uploaded/i4/O1CN01aCKLrF1gTzvmlwVs1_!!0-rate.jpg\"],\"buyCount\":0,\"userVipLevel\":0,\"auctionSku\":\"\",\"anony\":false,\"displayUserNumId\":0,\"goldUser\":false,\"attributesMap\":null,\"tradeEndTime\":{\"date\":3,\"hours\":0,\"seconds\":43,\"month\":10,\"timezoneOffset\":-480,\"year\":120,\"minutes\":27,\"time\":1604334463000,\"day\":2},\"headExtraPic\":\"\",\"aucNumId\":0,\"displayUserNick\":\"s***8\",\"structuredRateList\":[],\"carServiceLocation\":\"\",\"userVipPic\":\"\",\"serviceRateContent\":\"\",\"memberIcon\":\"\",\"attributes\":\"\",\"position\":\"\",\"cmsSource\":\"天猫\",\"tamllSweetLevel\":0,\"gmtCreateTime\":{\"date\":3,\"hours\":0,\"seconds\":39,\"month\":10,\"timezoneOffset\":-480,\"year\":120,\"minutes\":31,\"time\":1604334699000,\"day\":2},\"useful\":true,\"displayUserRateLink\":\"\"},{\"auctionPicUrl\":\"\",\"userInfo\":\"\",\"displayRatePic\":\"\",\"dsr\":0,\"displayRateSum\":0,\"appendComment\":null,\"fromMemory\":0,\"picsSmall\":[],\"tmallSweetPic\":\"tmall-grade-t3-18.png\",\"rateDate\":\"2020-11-06 20:41:21\",\"rateContent\":\"服务很好，提前沟通送货时间。\",\"fromMall\":true,\"userIdEncryption\":\"\",\"sellerId\":725677994,\"videoList\":[],\"displayUserLink\":\"\",\"id\":1109302191092,\"aliMallSeller\":false,\"reply\":\"\",\"pics\":[],\"buyCount\":0,\"userVipLevel\":0,\"auctionSku\":\"\",\"anony\":true,\"displayUserNumId\":0,\"goldUser\":true,\"attributesMap\":null,\"tradeEndTime\":{\"date\":6,\"hours\":18,\"seconds\":56,\"month\":10,\"timezoneOffset\":-480,\"year\":120,\"minutes\":59,\"time\":1604660396000,\"day\":5},\"headExtraPic\":\"\",\"aucNumId\":0,\"displayUserNick\":\"可***七\",\"structuredRateList\":[],\"carServiceLocation\":\"\",\"userVipPic\":\"\",\"serviceRateContent\":\"\",\"memberIcon\":\"\",\"attributes\":\"\",\"position\":\"111;10120-11-0,4;420-12-5,13;10021018-11-0,4;\",\"cmsSource\":\"天猫\",\"tamllSweetLevel\":3,\"gmtCreateTime\":{\"date\":6,\"hours\":20,\"seconds\":21,\"month\":10,\"timezoneOffset\":-480,\"year\":120,\"minutes\":41,\"time\":1604666481000,\"day\":5},\"useful\":true,\"displayUserRateLink\":\"\"},{\"auctionPicUrl\":\"\",\"userInfo\":\"\",\"displayRatePic\":\"\",\"dsr\":0,\"displayRateSum\":0,\"appendComment\":null,\"fromMemory\":0,\"picsSmall\":[],\"tmallSweetPic\":\"tmall-grade-t4-18.png\",\"rateDate\":\"2020-10-30 12:14:55\",\"rateContent\":\"老牌子质量很好，多次够买了，日常口粮。天猫超市信得过！\",\"fromMall\":true,\"userIdEncryption\":\"\",\"sellerId\":725677994,\"videoList\":[],\"displayUserLink\":\"\",\"id\":1106772574628,\"aliMallSeller\":false,\"reply\":\"\",\"pics\":[],\"buyCount\":0,\"userVipLevel\":0,\"auctionSku\":\"\",\"anony\":true,\"displayUserNumId\":0,\"goldUser\":false,\"attributesMap\":null,\"tradeEndTime\":{\"date\":30,\"hours\":12,\"seconds\":6,\"month\":9,\"timezoneOffset\":-480,\"year\":120,\"minutes\":12,\"time\":1604031126000,\"day\":5},\"headExtraPic\":\"\",\"aucNumId\":0,\"displayUserNick\":\"t***2\",\"structuredRateList\":[],\"carServiceLocation\":\"\",\"userVipPic\":\"\",\"serviceRateContent\":\"很好\",\"memberIcon\":\"\",\"attributes\":\"\",\"position\":\"920-11-28,30;620-11-0,7;10281026-11-0,7;\",\"cmsSource\":\"天猫\",\"tamllSweetLevel\":4,\"gmtCreateTime\":{\"date\":30,\"hours\":12,\"seconds\":55,\"month\":9,\"timezoneOffset\":-480,\"year\":120,\"minutes\":14,\"time\":1604031295000,\"day\":5},\"useful\":true,\"displayUserRateLink\":\"\"},{\"auctionPicUrl\":\"\",\"userInfo\":\"\",\"displayRatePic\":\"\",\"dsr\":0,\"displayRateSum\":0,\"appendComment\":null,\"fromMemory\":0,\"picsSmall\":[],\"tmallSweetPic\":\"tmall-grade-t1-18.png\",\"rateDate\":\"2020-10-24 00:28:20\",\"rateContent\":\"还可以吧，正品，本地超市98一瓶，这个一件买下来比超市便宜。买了两箱，家里备用。\",\"fromMall\":true,\"userIdEncryption\":\"\",\"sellerId\":725677994,\"videoList\":[],\"displayUserLink\":\"\",\"id\":1106190355035,\"aliMallSeller\":false,\"reply\":\"\",\"pics\":[\"//img.alicdn.com/bao/uploaded/i3/O1CN01BrqIre1sGy32Yojby_!!0-rate.jpg\",\"//img.alicdn.com/bao/uploaded/i1/O1CN01PpPuYh1y5PkiPTJrD_!!0-rate.jpg\"],\"buyCount\":0,\"userVipLevel\":0,\"auctionSku\":\"\",\"anony\":false,\"displayUserNumId\":0,\"goldUser\":true,\"attributesMap\":null,\"tradeEndTime\":{\"date\":9,\"hours\":4,\"seconds\":54,\"month\":9,\"timezoneOffset\":-480,\"year\":120,\"minutes\":54,\"time\":1602190494000,\"day\":5},\"headExtraPic\":\"\",\"aucNumId\":0,\"displayUserNick\":\"飞***6\",\"structuredRateList\":[],\"carServiceLocation\":\"\",\"userVipPic\":\"\",\"serviceRateContent\":\"\",\"memberIcon\":\"\",\"attributes\":\"\",\"position\":\"111;920-11-0,4;520-11-17,29;1020-11-5,7;10001013-11-17,29;10001025-11-5,7;\",\"cmsSource\":\"天猫\",\"tamllSweetLevel\":1,\"gmtCreateTime\":{\"date\":24,\"hours\":0,\"seconds\":20,\"month\":9,\"timezoneOffset\":-480,\"year\":120,\"minutes\":28,\"time\":1603470500000,\"day\":6},\"useful\":true,\"displayUserRateLink\":\"\"},{\"auctionPicUrl\":\"\",\"userInfo\":\"\",\"displayRatePic\":\"\",\"dsr\":0,\"displayRateSum\":0,\"appendComment\":null,\"fromMemory\":0,\"picsSmall\":[],\"tmallSweetPic\":\"tmall-grade-t2-18.png\",\"rateDate\":\"2020-10-30 13:04:19\",\"rateContent\":\"物流超快，酒是正品\",\"fromMall\":true,\"userIdEncryption\":\"\",\"sellerId\":725677994,\"videoList\":[],\"displayUserLink\":\"\",\"id\":1106779474727,\"aliMallSeller\":false,\"reply\":\"\",\"pics\":[],\"buyCount\":0,\"userVipLevel\":0,\"auctionSku\":\"\",\"anony\":false,\"displayUserNumId\":0,\"goldUser\":true,\"attributesMap\":null,\"tradeEndTime\":{\"date\":30,\"hours\":13,\"seconds\":49,\"month\":9,\"timezoneOffset\":-480,\"year\":120,\"minutes\":3,\"time\":1604034229000,\"day\":5},\"headExtraPic\":\"\",\"aucNumId\":0,\"displayUserNick\":\"t***1\",\"structuredRateList\":[],\"carServiceLocation\":\"\",\"userVipPic\":\"\",\"serviceRateContent\":\"\",\"memberIcon\":\"\",\"attributes\":\"\",\"position\":\"1020-11-5,9;420-11-0,4;10001025-11-5,9;10001020-11-0,4;\",\"cmsSource\":\"天猫\",\"tamllSweetLevel\":2,\"gmtCreateTime\":{\"date\":30,\"hours\":13,\"seconds\":19,\"month\":9,\"timezoneOffset\":-480,\"year\":120,\"minutes\":4,\"time\":1604034259000,\"day\":5},\"useful\":true,\"displayUserRateLink\":\"\"},{\"auctionPicUrl\":\"\",\"userInfo\":\"\",\"displayRatePic\":\"\",\"dsr\":0,\"displayRateSum\":0,\"appendComment\":null,\"fromMemory\":0,\"picsSmall\":[],\"tmallSweetPic\":\"\",\"rateDate\":\"2020-10-20 18:30:29\",\"rateContent\":\"宝贝收到，包装完好，如约收货，没有渗漏，满意的又一次回购，五星好评！\",\"fromMall\":true,\"userIdEncryption\":\"\",\"sellerId\":725677994,\"videoList\":[],\"displayUserLink\":\"\",\"id\":1105029889991,\"aliMallSeller\":false,\"reply\":\"\",\"pics\":[],\"buyCount\":0,\"userVipLevel\":0,\"auctionSku\":\"\",\"anony\":true,\"displayUserNumId\":0,\"goldUser\":true,\"attributesMap\":null,\"tradeEndTime\":{\"date\":20,\"hours\":18,\"seconds\":7,\"month\":9,\"timezoneOffset\":-480,\"year\":120,\"minutes\":20,\"time\":1603189207000,\"day\":2},\"headExtraPic\":\"\",\"aucNumId\":0,\"displayUserNick\":\"t***3\",\"structuredRateList\":[],\"carServiceLocation\":\"\",\"userVipPic\":\"\",\"serviceRateContent\":\"\",\"memberIcon\":\"\",\"attributes\":\"\",\"position\":\"111;920-11-29,33;620-12-0,4;220-11-5,9;920-11-20,28;10031004-11-5,9;10001024-11-20,28;\",\"cmsSource\":\"天猫\",\"tamllSweetLevel\":0,\"gmtCreateTime\":{\"date\":20,\"hours\":18,\"seconds\":29,\"month\":9,\"timezoneOffset\":-480,\"year\":120,\"minutes\":30,\"time\":1603189829000,\"day\":2},\"useful\":true,\"displayUserRateLink\":\"\"},{\"auctionPicUrl\":\"\",\"userInfo\":\"\",\"displayRatePic\":\"\",\"dsr\":0,\"displayRateSum\":0,\"appendComment\":null,\"fromMemory\":0,\"picsSmall\":[],\"tmallSweetPic\":\"tmall-grade-t3-18.png\",\"rateDate\":\"2020-10-26 08:23:53\",\"rateContent\":\"送人的囤货，天猫超市买就图个放心，假酒害人，还是正规店购买的好\",\"fromMall\":true,\"userIdEncryption\":\"\",\"sellerId\":725677994,\"videoList\":[],\"displayUserLink\":\"\",\"id\":1105467432648,\"aliMallSeller\":false,\"reply\":\"\",\"pics\":[],\"buyCount\":0,\"userVipLevel\":0,\"auctionSku\":\"\",\"anony\":false,\"displayUserNumId\":0,\"goldUser\":false,\"attributesMap\":null,\"tradeEndTime\":{\"date\":26,\"hours\":8,\"seconds\":37,\"month\":9,\"timezoneOffset\":-480,\"year\":120,\"minutes\":22,\"time\":1603671757000,\"day\":1},\"headExtraPic\":\"\",\"aucNumId\":0,\"displayUserNick\":\"t***0\",\"structuredRateList\":[],\"carServiceLocation\":\"\",\"userVipPic\":\"\",\"serviceRateContent\":\"\",\"memberIcon\":\"\",\"attributes\":\"\",\"position\":\"111;442-13-17,21;920-11-6,16;920-11-22,31;\",\"cmsSource\":\"天猫\",\"tamllSweetLevel\":3,\"gmtCreateTime\":{\"date\":26,\"hours\":8,\"seconds\":53,\"month\":9,\"timezoneOffset\":-480,\"year\":120,\"minutes\":23,\"time\":1603671833000,\"day\":1},\"useful\":true,\"displayUserRateLink\":\"\"},{\"auctionPicUrl\":\"\",\"userInfo\":\"\",\"displayRatePic\":\"\",\"dsr\":0,\"displayRateSum\":0,\"appendComment\":null,\"fromMemory\":0,\"picsSmall\":[],\"tmallSweetPic\":\"tmall-grade-t2-18.png\",\"rateDate\":\"2020-10-24 15:34:31\",\"rateContent\":\"是真的很辣，不过应该是真品，好评！\",\"fromMall\":true,\"userIdEncryption\":\"\",\"sellerId\":725677994,\"videoList\":[],\"displayUserLink\":\"\",\"id\":1105923254772,\"aliMallSeller\":false,\"reply\":\"\",\"pics\":[],\"buyCount\":0,\"userVipLevel\":0,\"auctionSku\":\"\",\"anony\":false,\"displayUserNumId\":0,\"goldUser\":false,\"attributesMap\":null,\"tradeEndTime\":{\"date\":19,\"hours\":18,\"seconds\":24,\"month\":9,\"timezoneOffset\":-480,\"year\":120,\"minutes\":36,\"time\":1603103784000,\"day\":1},\"headExtraPic\":\"\",\"aucNumId\":0,\"displayUserNick\":\"q***9\",\"structuredRateList\":[],\"carServiceLocation\":\"\",\"userVipPic\":\"\",\"serviceRateContent\":\"\",\"memberIcon\":\"\",\"attributes\":\"\",\"position\":\"111;920-11-14,16;1020-11-6,13;10031014-13-0,5;\",\"cmsSource\":\"天猫\",\"tamllSweetLevel\":2,\"gmtCreateTime\":{\"date\":24,\"hours\":15,\"seconds\":31,\"month\":9,\"timezoneOffset\":-480,\"year\":120,\"minutes\":34,\"time\":1603524871000,\"day\":6},\"useful\":true,\"displayUserRateLink\":\"\"},{\"auctionPicUrl\":\"\",\"userInfo\":\"\",\"displayRatePic\":\"\",\"dsr\":0,\"displayRateSum\":0,\"appendComment\":null,\"fromMemory\":0,\"picsSmall\":[],\"tmallSweetPic\":\"tmall-grade-t1-18.png\",\"rateDate\":\"2020-10-17 10:55:11\",\"rateContent\":\"性价比还不错\",\"fromMall\":true,\"userIdEncryption\":\"\",\"sellerId\":725677994,\"videoList\":[],\"displayUserLink\":\"\",\"id\":1104875062095,\"aliMallSeller\":false,\"reply\":\"\",\"pics\":[],\"buyCount\":0,\"userVipLevel\":0,\"auctionSku\":\"\",\"anony\":false,\"displayUserNumId\":0,\"goldUser\":false,\"attributesMap\":null,\"tradeEndTime\":{\"date\":17,\"hours\":10,\"seconds\":39,\"month\":9,\"timezoneOffset\":-480,\"year\":120,\"minutes\":54,\"time\":1602903279000,\"day\":6},\"headExtraPic\":\"\",\"aucNumId\":0,\"displayUserNick\":\"p***r\",\"structuredRateList\":[],\"carServiceLocation\":\"\",\"userVipPic\":\"\",\"serviceRateContent\":\"\",\"memberIcon\":\"\",\"attributes\":\"\",\"position\":\"111;20520-11-0,6;10001013-11-0,6;\",\"cmsSource\":\"天猫\",\"tamllSweetLevel\":1,\"gmtCreateTime\":{\"date\":17,\"hours\":10,\"seconds\":11,\"month\":9,\"timezoneOffset\":-480,\"year\":120,\"minutes\":55,\"time\":1602903311000,\"day\":6},\"useful\":true,\"displayUserRateLink\":\"\"},{\"auctionPicUrl\":\"\",\"userInfo\":\"\",\"displayRatePic\":\"\",\"dsr\":0,\"displayRateSum\":0,\"appendComment\":null,\"fromMemory\":0,\"picsSmall\":[],\"tmallSweetPic\":\"\",\"rateDate\":\"2020-10-27 06:27:36\",\"rateContent\":\"这才是那酱香味\",\"fromMall\":true,\"userIdEncryption\":\"\",\"sellerId\":725677994,\"videoList\":[],\"displayUserLink\":\"\",\"id\":1106655127145,\"aliMallSeller\":false,\"reply\":\"\",\"pics\":[],\"buyCount\":0,\"userVipLevel\":0,\"auctionSku\":\"\",\"anony\":false,\"displayUserNumId\":0,\"goldUser\":false,\"attributesMap\":null,\"tradeEndTime\":{\"date\":20,\"hours\":16,\"seconds\":35,\"month\":9,\"timezoneOffset\":-480,\"year\":120,\"minutes\":44,\"time\":1603183475000,\"day\":2},\"headExtraPic\":\"\",\"aucNumId\":0,\"displayUserNick\":\"t***0\",\"structuredRateList\":[],\"carServiceLocation\":\"\",\"userVipPic\":\"\",\"serviceRateContent\":\"\",\"memberIcon\":\"\",\"attributes\":\"\",\"position\":\"342-11-0,7;\",\"cmsSource\":\"天猫\",\"tamllSweetLevel\":0,\"gmtCreateTime\":{\"date\":27,\"hours\":6,\"seconds\":36,\"month\":9,\"timezoneOffset\":-480,\"year\":120,\"minutes\":27,\"time\":1603751256000,\"day\":2},\"useful\":true,\"displayUserRateLink\":\"\"},{\"auctionPicUrl\":\"\",\"userInfo\":\"\",\"displayRatePic\":\"\",\"dsr\":0,\"displayRateSum\":0,\"appendComment\":null,\"fromMemory\":0,\"picsSmall\":[],\"tmallSweetPic\":\"tmall-grade-t2-18.png\",\"rateDate\":\"2020-10-14 12:27:31\",\"rateContent\":\"中秋节买给老爸老**。老爸说不错。53℃酒很合适。亲戚朋友来家里用来招待客人也合适。不错不错(*๓&acute;╰╯`๓)♡过年再来两箱吧\",\"fromMall\":true,\"userIdEncryption\":\"\",\"sellerId\":725677994,\"videoList\":[],\"displayUserLink\":\"\",\"id\":1103757940081,\"aliMallSeller\":false,\"reply\":\"\",\"pics\":[\"//img.alicdn.com/bao/uploaded/i3/O1CN01KVTsWu2JZHVcqcSCk_!!0-rate.jpg\"],\"buyCount\":0,\"userVipLevel\":0,\"auctionSku\":\"\",\"anony\":true,\"displayUserNumId\":0,\"goldUser\":false,\"attributesMap\":null,\"tradeEndTime\":{\"date\":5,\"hours\":20,\"seconds\":5,\"month\":9,\"timezoneOffset\":-480,\"year\":120,\"minutes\":3,\"time\":1601899385000,\"day\":1},\"headExtraPic\":\"\",\"aucNumId\":0,\"displayUserNick\":\"喵***肉\",\"structuredRateList\":[],\"carServiceLocation\":\"\",\"userVipPic\":\"\",\"serviceRateContent\":\"\",\"memberIcon\":\"\",\"attributes\":\"\",\"position\":\"111;920-11-25,41;920-11-11,16;920-11-42,46;620-11-20,24;10081000-11-11,16;10001013-11-17,24;\",\"cmsSource\":\"天猫\",\"tamllSweetLevel\":2,\"gmtCreateTime\":{\"date\":14,\"hours\":12,\"seconds\":31,\"month\":9,\"timezoneOffset\":-480,\"year\":120,\"minutes\":27,\"time\":1602649651000,\"day\":3},\"useful\":true,\"displayUserRateLink\":\"\"},{\"auctionPicUrl\":\"\",\"userInfo\":\"\",\"displayRatePic\":\"\",\"dsr\":0,\"displayRateSum\":0,\"appendComment\":null,\"fromMemory\":0,\"picsSmall\":[],\"tmallSweetPic\":\"tmall-grade-t4-18.png\",\"rateDate\":\"2020-10-22 21:08:31\",\"rateContent\":\"还没喝 相信茅台品牌 相信天猫超市 应该是真的\",\"fromMall\":true,\"userIdEncryption\":\"\",\"sellerId\":725677994,\"videoList\":[],\"displayUserLink\":\"\",\"id\":1105325633515,\"aliMallSeller\":false,\"reply\":\"\",\"pics\":[],\"buyCount\":0,\"userVipLevel\":0,\"auctionSku\":\"\",\"anony\":false,\"displayUserNumId\":0,\"goldUser\":true,\"attributesMap\":null,\"tradeEndTime\":{\"date\":17,\"hours\":0,\"seconds\":56,\"month\":9,\"timezoneOffset\":-480,\"year\":120,\"minutes\":6,\"time\":1602864416000,\"day\":6},\"headExtraPic\":\"\",\"aucNumId\":0,\"displayUserNick\":\"秀***妮\",\"structuredRateList\":[],\"carServiceLocation\":\"\",\"userVipPic\":\"\",\"serviceRateContent\":\"\",\"memberIcon\":\"\",\"attributes\":\"\",\"position\":\"111;10001025-11-0,20;\",\"cmsSource\":\"天猫\",\"tamllSweetLevel\":4,\"gmtCreateTime\":{\"date\":22,\"hours\":21,\"seconds\":31,\"month\":9,\"timezoneOffset\":-480,\"year\":120,\"minutes\":8,\"time\":1603372111000,\"day\":4},\"useful\":true,\"displayUserRateLink\":\"\"},{\"auctionPicUrl\":\"\",\"userInfo\":\"\",\"displayRatePic\":\"\",\"dsr\":0,\"displayRateSum\":0,\"appendComment\":null,\"fromMemory\":0,\"picsSmall\":[],\"tmallSweetPic\":\"\",\"rateDate\":\"2020-09-29 13:17:41\",\"rateContent\":\"整体评价：挺好的很漂亮我喜欢非常棒！\",\"fromMall\":true,\"userIdEncryption\":\"\",\"sellerId\":725677994,\"videoList\":[],\"displayUserLink\":\"\",\"id\":1102503662949,\"aliMallSeller\":false,\"reply\":\"\",\"pics\":[],\"buyCount\":0,\"userVipLevel\":0,\"auctionSku\":\"\",\"anony\":false,\"displayUserNumId\":0,\"goldUser\":false,\"attributesMap\":null,\"tradeEndTime\":{\"date\":29,\"hours\":12,\"seconds\":20,\"month\":8,\"timezoneOffset\":-480,\"year\":120,\"minutes\":39,\"time\":1601354360000,\"day\":2},\"headExtraPic\":\"\",\"aucNumId\":0,\"displayUserNick\":\"棒***1\",\"structuredRateList\":[],\"carServiceLocation\":\"\",\"userVipPic\":\"\",\"serviceRateContent\":\"\",\"memberIcon\":\"\",\"attributes\":\"\",\"position\":\"920-12-0,4;920-11-5,17;\",\"cmsSource\":\"天猫\",\"tamllSweetLevel\":0,\"gmtCreateTime\":{\"date\":29,\"hours\":13,\"seconds\":41,\"month\":8,\"timezoneOffset\":-480,\"year\":120,\"minutes\":17,\"time\":1601356661000,\"day\":2},\"useful\":true,\"displayUserRateLink\":\"\"},{\"auctionPicUrl\":\"\",\"userInfo\":\"\",\"displayRatePic\":\"\",\"dsr\":0,\"displayRateSum\":0,\"appendComment\":null,\"fromMemory\":0,\"picsSmall\":[],\"tmallSweetPic\":\"tmall-grade-t2-18.png\",\"rateDate\":\"2020-10-07 20:35:10\",\"rateContent\":\"优惠购买  值得购买\",\"fromMall\":true,\"userIdEncryption\":\"\",\"sellerId\":725677994,\"videoList\":[],\"displayUserLink\":\"\",\"id\":1103902007281,\"aliMallSeller\":false,\"reply\":\"\",\"pics\":[],\"buyCount\":0,\"userVipLevel\":0,\"auctionSku\":\"\",\"anony\":false,\"displayUserNumId\":0,\"goldUser\":true,\"attributesMap\":null,\"tradeEndTime\":{\"date\":3,\"hours\":14,\"seconds\":55,\"month\":9,\"timezoneOffset\":-480,\"year\":120,\"minutes\":13,\"time\":1601705635000,\"day\":6},\"headExtraPic\":\"\",\"aucNumId\":0,\"displayUserNick\":\"自***5\",\"structuredRateList\":[],\"carServiceLocation\":\"\",\"userVipPic\":\"\",\"serviceRateContent\":\"\",\"memberIcon\":\"\",\"attributes\":\"\",\"position\":\"111;920-11-6,10;10001013-11-0,8;\",\"cmsSource\":\"天猫\",\"tamllSweetLevel\":2,\"gmtCreateTime\":{\"date\":7,\"hours\":20,\"seconds\":10,\"month\":9,\"timezoneOffset\":-480,\"year\":120,\"minutes\":35,\"time\":1602074110000,\"day\":3},\"useful\":true,\"displayUserRateLink\":\"\"}],\"searchinfo\":\"\",\"from\":\"search\",\"paginator\":{\"lastPage\":99,\"page\":1,\"items\":2263},\"tags\":[]}})'"
      ]
     },
     "execution_count": 21,
     "metadata": {},
     "output_type": "execute_result"
    }
   ],
   "source": [
    "#直接发起数据请求\n",
    "data = requests.get(url2,headers = headers).text\n",
    "data"
   ]
  },
  {
   "cell_type": "code",
   "execution_count": null,
   "metadata": {},
   "outputs": [],
   "source": [
    "#通过正则提取出来评论"
   ]
  },
  {
   "cell_type": "code",
   "execution_count": 22,
   "metadata": {},
   "outputs": [],
   "source": [
    "import re"
   ]
  },
  {
   "cell_type": "code",
   "execution_count": 23,
   "metadata": {},
   "outputs": [],
   "source": [
    "#发现规律-套路\n",
    "#搞一个匹配规则出来，\"rateContent\"：\"想要的评论内容\"，\"fromMall\"\n",
    "pat = re.compile('\"rateContent\":\"(.*?)\",\"fromMall\"')"
   ]
  },
  {
   "cell_type": "code",
   "execution_count": 24,
   "metadata": {},
   "outputs": [
    {
     "data": {
      "text/plain": [
       "['多次购买了，很好，值得购买',\n",
       " '服务非常到位，提前打电话沟通送货时间。 口感味道：酒香味浓，颜色微微发黄，口感好。',\n",
       " '很好，价格实惠好。',\n",
       " '很好，真酒',\n",
       " '口感味道：酒香醇厚，物超所值，第二天就收到了。谢谢店家！',\n",
       " '酒液质量：质量不错 整体评价：物有所值 包装品质：挺漂亮 外观品相：送礼挺好的 口感味道：不错',\n",
       " '真酒 不错',\n",
       " '服务很好，提前沟通送货时间。',\n",
       " '老牌子质量很好，多次够买了，日常口粮。天猫超市信得过！',\n",
       " '还可以吧，正品，本地超市98一瓶，这个一件买下来比超市便宜。买了两箱，家里备用。',\n",
       " '物流超快，酒是正品',\n",
       " '宝贝收到，包装完好，如约收货，没有渗漏，满意的又一次回购，五星好评！',\n",
       " '送人的囤货，天猫超市买就图个放心，假酒害人，还是正规店购买的好',\n",
       " '是真的很辣，不过应该是真品，好评！',\n",
       " '性价比还不错',\n",
       " '这才是那酱香味',\n",
       " '中秋节买给老爸老**。老爸说不错。53℃酒很合适。亲戚朋友来家里用来招待客人也合适。不错不错(*๓&acute;╰╯`๓)♡过年再来两箱吧',\n",
       " '还没喝 相信茅台品牌 相信天猫超市 应该是真的',\n",
       " '整体评价：挺好的很漂亮我喜欢非常棒！',\n",
       " '优惠购买  值得购买']"
      ]
     },
     "execution_count": 24,
     "metadata": {},
     "output_type": "execute_result"
    }
   ],
   "source": [
    "#按照匹配规则找出评论来\n",
    "pat.findall(data)"
   ]
  },
  {
   "cell_type": "code",
   "execution_count": 25,
   "metadata": {},
   "outputs": [],
   "source": [
    "import time"
   ]
  },
  {
   "cell_type": "code",
   "execution_count": 26,
   "metadata": {},
   "outputs": [
    {
     "name": "stdout",
     "output_type": "stream",
     "text": [
      "爬完了第2页\n",
      "爬完了第3页\n",
      "爬完了第4页\n"
     ]
    }
   ],
   "source": [
    "#如何获取更多页的评论呢？通过改变评论url中的页码数\n",
    "texts = []\n",
    "for n in range(2,5): #2~4页\n",
    "    url2 = 'https://rate.tmall.com/list_detail_rate.htm?itemId=43585489970&spuId=991324951&sellerId=725677994&order=3&currentPage='+str(n)+'&append=0&content=1&tagId=&posi=&picture=&ua=098%23E1hv8Qvkv3OvUvCkvvvvvjiWP25Z1jrmRFqw6jnEPmP96j1RRsMpQjYEPs5v6jrW9vhvHHiwS63lzHi4IXdjt1Q47%2BE4NYGBRvhvCvvvvvvgvpvhvvvvv29CvvpvvvvvdvhvmpvvPIUlnJpoj4QCvvyvvbKmFUsyvi%2F%2BvpvEvvBn9Di4tPladvhvmpvhcpnacXQQu4QCvvyvm2O2ZD8Oa2%2F%2BvpvEvvFTv03I3PXwdvhvmpvhovn3Oxkmx8QCvvyvmhmmUoHON9vgvpvhvvvvv29Cvvpvvvvv29hvCvvvMMGvvpvVvvpvvhCvKvhv8vvvvvCvpvvvvvmCvyCvmCGvvvWvphvW9pvvvQCvpvs9vvv2vhCv2RmUvpvVmvvC9j3Ruvhvmvvv9buPX5FGmvhvLvLyJ9vj7SoxfJmKHkyZD7zh68TNayNy0RFhe3O0747B9Wma%2BoHoDO2hT2eAnhjEKOmxdBQaUExr1jZ7%2B3%2BIaNoxfBAKfvDrgjc6hoTevpvhvvmv9IOCvvpvCvvv9vhvje1wwNMmzHi4754Lz6u8QbM23MIFmV5EQOJYRln8k8QCvvyvmhkmFgYw%2BR4%2BvpvEvvkSv0a5tVLS9vhv2Hi4JQ27zHi4yYrhzs9Cvvpvvvvv9vhv2HifKSNPzHi4y%2FVHzgvCvv1475wvXY147iPd5nGVvpvj7DdNzQWSHQOCvva47rMNvAY89vhv2HifUSGZzHi4I7e4zgvCvv14cPlUKa147uHGvn%2FvvpvW7DAJobFw7Du3kxjN&isg=BNnZ5--e4voeb75uTvs8Ee3p6MWzZs0YC7kImfuL0YBWAvyUQbeU6R5QBMd07GVQ&_ksTS=1605515632510_3316&callback=jsonp3317'\n",
    "    #增加延时控制速度，不容易触发反爬\n",
    "    time.sleep(3)\n",
    "    data = requests.get(url2,headers = headers).text\n",
    "    texts.extend(pat.findall(data))\n",
    "    print('爬完了第'+str(n)+'页')#非必须，了解进度"
   ]
  },
  {
   "cell_type": "code",
   "execution_count": 27,
   "metadata": {},
   "outputs": [
    {
     "data": {
      "text/plain": [
       "['酒逢知己千杯少，一箱迎宾不显多，六星好评',\n",
       " '第二次买了&hellip;&hellip;还别说，在家喝喝，一高兴就得再买一箱^_^^_^^_^',\n",
       " '很快包装很好',\n",
       " '真 喝着也不错 下次在回购',\n",
       " '没问题👌很喜欢这个货',\n",
       " '不错的，挺好的酒，直接喝吐，好酒',\n",
       " '不错不错，直接干吐了，好酒',\n",
       " '没问题，真酒！好喝！',\n",
       " '挺好的酱香口粮酒',\n",
       " '很好很满意',\n",
       " '味道不错',\n",
       " '酒比较新',\n",
       " '喝起来很上口，不错',\n",
       " '看着挺好的',\n",
       " '酒液质量：如果不是专业的品酒师或喜欢喝酒的，53&deg;飞天和这个感觉不会有太大差异。 整体评价：性价比高。 包装品质：典型的茅台包装，有防伪码。 外观品相：高端大气。 口感味道：润滑入口，回味无穷。',\n",
       " '很好，非常满意',\n",
       " '没拆！也没喝！喝了在来评价口感和真假！',\n",
       " '买来送长辈的，味道不错，之前在朋友婚礼喝过，但是平常很少喝酒，品不出来和其他酒的差别。总之必进是茅台的牌子在这嘛，没什么好挑剔的。包装很好，快递也是隔天到，天猫超市的东西也比较有保障点，比较让人放心。',\n",
       " '第一次从天猫超市买酒，很不错，保真，实惠，方便。',\n",
       " '一直在天猫超市买，这次采购不少中秋节走亲戚用！好评！',\n",
       " '挺好喝的，第一次尝试，朋友推荐的可以',\n",
       " '口感还是一般般吧 但是好歹也是茅台镇出来的酒 酱香型的味道还是挺不错的',\n",
       " '天猫超市我信的过，还没有喝，喝过了再评价。全五分，包装完好！',\n",
       " '好给老爸买的，天猫超市值得信赖',\n",
       " '此用户没有填写评论!',\n",
       " '买给爸爸喝，无限次回购中。',\n",
       " '送人了 应该是正品',\n",
       " '没有喝！但是看起来还不错',\n",
       " '非常不错',\n",
       " '应该是真的，也没看',\n",
       " '包装严实，发货速度快，好评',\n",
       " '看包装挺精致，没喝过也不知真假，等以后追评吧',\n",
       " '天猫超市买的应该不会有假吧？',\n",
       " '酒液质量：一般 整体评价：一般 包装品质：一般 口感味道：一般',\n",
       " '一直买，非常好，便宜好喝，天猫超市真的是方便又实惠',\n",
       " '酒液质量：x',\n",
       " '整箱用封口纸防止了假冒，服务细致。',\n",
       " '客户说炒菜用的',\n",
       " '酒液质量：酒液浓郁 包装品质：包装品质好 外观品相：外观品相好',\n",
       " '第二次购买，产品不错！',\n",
       " '货应该是真的，就等喝看了。',\n",
       " '货真价实，物流快，服务好，很满意',\n",
       " '正品酒，挺划算的，下次还会继续购买',\n",
       " '实惠，正品保证。期待好喝。',\n",
       " '酒很好，是正品，天猫超市信得过',\n",
       " '酒很好，是正品，天猫超市信得过',\n",
       " '贵啊，我才买双十一又便宜了些',\n",
       " '有点不愉快，有一瓶瓶盖漏酒，只能先喝了，酒是正品',\n",
       " '天猫超市我信的过，应该不会有假货。全五分，包装玩好',\n",
       " '酒味道不错，真正酱香型白酒，价格实惠，以是多次购买了',\n",
       " '宝贝不错 物美价优 很好 是一次很棒的购物体验',\n",
       " '东西不错，与描述相符，值得够买。',\n",
       " '很不错 父亲节给爸爸的礼物 爸爸很喜欢 😁😁😁 是一个不错父亲节礼物',\n",
       " '不错很快很快，口感很好，茅台出牌必是精品',\n",
       " '给父亲买的，酒不错，挺好喝',\n",
       " '我老爸超级喜欢这个',\n",
       " '买了一件，老妈生日宴上用，物流很快，没有破损，满意，好评！',\n",
       " '有点贵了。',\n",
       " '酒收到了，完好无损，买来存放的。',\n",
       " '很纯，口感好，再来一件']"
      ]
     },
     "execution_count": 27,
     "metadata": {},
     "output_type": "execute_result"
    }
   ],
   "source": [
    "texts"
   ]
  },
  {
   "cell_type": "code",
   "execution_count": null,
   "metadata": {},
   "outputs": [],
   "source": [
    "#保存数据"
   ]
  },
  {
   "cell_type": "code",
   "execution_count": 28,
   "metadata": {},
   "outputs": [],
   "source": [
    "import pandas as pd #可以把excel和python连一起"
   ]
  },
  {
   "cell_type": "code",
   "execution_count": 29,
   "metadata": {},
   "outputs": [],
   "source": [
    "#创建一个空的数据表\n",
    "df = pd.DataFrame()"
   ]
  },
  {
   "cell_type": "code",
   "execution_count": 30,
   "metadata": {},
   "outputs": [
    {
     "data": {
      "text/html": [
       "<div>\n",
       "<style scoped>\n",
       "    .dataframe tbody tr th:only-of-type {\n",
       "        vertical-align: middle;\n",
       "    }\n",
       "\n",
       "    .dataframe tbody tr th {\n",
       "        vertical-align: top;\n",
       "    }\n",
       "\n",
       "    .dataframe thead th {\n",
       "        text-align: right;\n",
       "    }\n",
       "</style>\n",
       "<table border=\"1\" class=\"dataframe\">\n",
       "  <thead>\n",
       "    <tr style=\"text-align: right;\">\n",
       "      <th></th>\n",
       "    </tr>\n",
       "  </thead>\n",
       "  <tbody>\n",
       "  </tbody>\n",
       "</table>\n",
       "</div>"
      ],
      "text/plain": [
       "Empty DataFrame\n",
       "Columns: []\n",
       "Index: []"
      ]
     },
     "execution_count": 30,
     "metadata": {},
     "output_type": "execute_result"
    }
   ],
   "source": [
    "df"
   ]
  },
  {
   "cell_type": "code",
   "execution_count": 31,
   "metadata": {},
   "outputs": [],
   "source": [
    "df['评论'] = texts"
   ]
  },
  {
   "cell_type": "code",
   "execution_count": 32,
   "metadata": {},
   "outputs": [
    {
     "data": {
      "text/html": [
       "<div>\n",
       "<style scoped>\n",
       "    .dataframe tbody tr th:only-of-type {\n",
       "        vertical-align: middle;\n",
       "    }\n",
       "\n",
       "    .dataframe tbody tr th {\n",
       "        vertical-align: top;\n",
       "    }\n",
       "\n",
       "    .dataframe thead th {\n",
       "        text-align: right;\n",
       "    }\n",
       "</style>\n",
       "<table border=\"1\" class=\"dataframe\">\n",
       "  <thead>\n",
       "    <tr style=\"text-align: right;\">\n",
       "      <th></th>\n",
       "      <th>评论</th>\n",
       "    </tr>\n",
       "  </thead>\n",
       "  <tbody>\n",
       "    <tr>\n",
       "      <th>0</th>\n",
       "      <td>酒逢知己千杯少，一箱迎宾不显多，六星好评</td>\n",
       "    </tr>\n",
       "    <tr>\n",
       "      <th>1</th>\n",
       "      <td>第二次买了&amp;hellip;&amp;hellip;还别说，在家喝喝，一高兴就得再买一箱^_^^_^^_^</td>\n",
       "    </tr>\n",
       "    <tr>\n",
       "      <th>2</th>\n",
       "      <td>很快包装很好</td>\n",
       "    </tr>\n",
       "    <tr>\n",
       "      <th>3</th>\n",
       "      <td>真 喝着也不错 下次在回购</td>\n",
       "    </tr>\n",
       "    <tr>\n",
       "      <th>4</th>\n",
       "      <td>没问题👌很喜欢这个货</td>\n",
       "    </tr>\n",
       "    <tr>\n",
       "      <th>5</th>\n",
       "      <td>不错的，挺好的酒，直接喝吐，好酒</td>\n",
       "    </tr>\n",
       "    <tr>\n",
       "      <th>6</th>\n",
       "      <td>不错不错，直接干吐了，好酒</td>\n",
       "    </tr>\n",
       "    <tr>\n",
       "      <th>7</th>\n",
       "      <td>没问题，真酒！好喝！</td>\n",
       "    </tr>\n",
       "    <tr>\n",
       "      <th>8</th>\n",
       "      <td>挺好的酱香口粮酒</td>\n",
       "    </tr>\n",
       "    <tr>\n",
       "      <th>9</th>\n",
       "      <td>很好很满意</td>\n",
       "    </tr>\n",
       "    <tr>\n",
       "      <th>10</th>\n",
       "      <td>味道不错</td>\n",
       "    </tr>\n",
       "    <tr>\n",
       "      <th>11</th>\n",
       "      <td>酒比较新</td>\n",
       "    </tr>\n",
       "    <tr>\n",
       "      <th>12</th>\n",
       "      <td>喝起来很上口，不错</td>\n",
       "    </tr>\n",
       "    <tr>\n",
       "      <th>13</th>\n",
       "      <td>看着挺好的</td>\n",
       "    </tr>\n",
       "    <tr>\n",
       "      <th>14</th>\n",
       "      <td>酒液质量：如果不是专业的品酒师或喜欢喝酒的，53&amp;deg;飞天和这个感觉不会有太大差异。 整...</td>\n",
       "    </tr>\n",
       "    <tr>\n",
       "      <th>15</th>\n",
       "      <td>很好，非常满意</td>\n",
       "    </tr>\n",
       "    <tr>\n",
       "      <th>16</th>\n",
       "      <td>没拆！也没喝！喝了在来评价口感和真假！</td>\n",
       "    </tr>\n",
       "    <tr>\n",
       "      <th>17</th>\n",
       "      <td>买来送长辈的，味道不错，之前在朋友婚礼喝过，但是平常很少喝酒，品不出来和其他酒的差别。总之必...</td>\n",
       "    </tr>\n",
       "    <tr>\n",
       "      <th>18</th>\n",
       "      <td>第一次从天猫超市买酒，很不错，保真，实惠，方便。</td>\n",
       "    </tr>\n",
       "    <tr>\n",
       "      <th>19</th>\n",
       "      <td>一直在天猫超市买，这次采购不少中秋节走亲戚用！好评！</td>\n",
       "    </tr>\n",
       "    <tr>\n",
       "      <th>20</th>\n",
       "      <td>挺好喝的，第一次尝试，朋友推荐的可以</td>\n",
       "    </tr>\n",
       "    <tr>\n",
       "      <th>21</th>\n",
       "      <td>口感还是一般般吧 但是好歹也是茅台镇出来的酒 酱香型的味道还是挺不错的</td>\n",
       "    </tr>\n",
       "    <tr>\n",
       "      <th>22</th>\n",
       "      <td>天猫超市我信的过，还没有喝，喝过了再评价。全五分，包装完好！</td>\n",
       "    </tr>\n",
       "    <tr>\n",
       "      <th>23</th>\n",
       "      <td>好给老爸买的，天猫超市值得信赖</td>\n",
       "    </tr>\n",
       "    <tr>\n",
       "      <th>24</th>\n",
       "      <td>此用户没有填写评论!</td>\n",
       "    </tr>\n",
       "    <tr>\n",
       "      <th>25</th>\n",
       "      <td>买给爸爸喝，无限次回购中。</td>\n",
       "    </tr>\n",
       "    <tr>\n",
       "      <th>26</th>\n",
       "      <td>送人了 应该是正品</td>\n",
       "    </tr>\n",
       "    <tr>\n",
       "      <th>27</th>\n",
       "      <td>没有喝！但是看起来还不错</td>\n",
       "    </tr>\n",
       "    <tr>\n",
       "      <th>28</th>\n",
       "      <td>非常不错</td>\n",
       "    </tr>\n",
       "    <tr>\n",
       "      <th>29</th>\n",
       "      <td>应该是真的，也没看</td>\n",
       "    </tr>\n",
       "    <tr>\n",
       "      <th>30</th>\n",
       "      <td>包装严实，发货速度快，好评</td>\n",
       "    </tr>\n",
       "    <tr>\n",
       "      <th>31</th>\n",
       "      <td>看包装挺精致，没喝过也不知真假，等以后追评吧</td>\n",
       "    </tr>\n",
       "    <tr>\n",
       "      <th>32</th>\n",
       "      <td>天猫超市买的应该不会有假吧？</td>\n",
       "    </tr>\n",
       "    <tr>\n",
       "      <th>33</th>\n",
       "      <td>酒液质量：一般 整体评价：一般 包装品质：一般 口感味道：一般</td>\n",
       "    </tr>\n",
       "    <tr>\n",
       "      <th>34</th>\n",
       "      <td>一直买，非常好，便宜好喝，天猫超市真的是方便又实惠</td>\n",
       "    </tr>\n",
       "    <tr>\n",
       "      <th>35</th>\n",
       "      <td>酒液质量：x</td>\n",
       "    </tr>\n",
       "    <tr>\n",
       "      <th>36</th>\n",
       "      <td>整箱用封口纸防止了假冒，服务细致。</td>\n",
       "    </tr>\n",
       "    <tr>\n",
       "      <th>37</th>\n",
       "      <td>客户说炒菜用的</td>\n",
       "    </tr>\n",
       "    <tr>\n",
       "      <th>38</th>\n",
       "      <td>酒液质量：酒液浓郁 包装品质：包装品质好 外观品相：外观品相好</td>\n",
       "    </tr>\n",
       "    <tr>\n",
       "      <th>39</th>\n",
       "      <td>第二次购买，产品不错！</td>\n",
       "    </tr>\n",
       "    <tr>\n",
       "      <th>40</th>\n",
       "      <td>货应该是真的，就等喝看了。</td>\n",
       "    </tr>\n",
       "    <tr>\n",
       "      <th>41</th>\n",
       "      <td>货真价实，物流快，服务好，很满意</td>\n",
       "    </tr>\n",
       "    <tr>\n",
       "      <th>42</th>\n",
       "      <td>正品酒，挺划算的，下次还会继续购买</td>\n",
       "    </tr>\n",
       "    <tr>\n",
       "      <th>43</th>\n",
       "      <td>实惠，正品保证。期待好喝。</td>\n",
       "    </tr>\n",
       "    <tr>\n",
       "      <th>44</th>\n",
       "      <td>酒很好，是正品，天猫超市信得过</td>\n",
       "    </tr>\n",
       "    <tr>\n",
       "      <th>45</th>\n",
       "      <td>酒很好，是正品，天猫超市信得过</td>\n",
       "    </tr>\n",
       "    <tr>\n",
       "      <th>46</th>\n",
       "      <td>贵啊，我才买双十一又便宜了些</td>\n",
       "    </tr>\n",
       "    <tr>\n",
       "      <th>47</th>\n",
       "      <td>有点不愉快，有一瓶瓶盖漏酒，只能先喝了，酒是正品</td>\n",
       "    </tr>\n",
       "    <tr>\n",
       "      <th>48</th>\n",
       "      <td>天猫超市我信的过，应该不会有假货。全五分，包装玩好</td>\n",
       "    </tr>\n",
       "    <tr>\n",
       "      <th>49</th>\n",
       "      <td>酒味道不错，真正酱香型白酒，价格实惠，以是多次购买了</td>\n",
       "    </tr>\n",
       "    <tr>\n",
       "      <th>50</th>\n",
       "      <td>宝贝不错 物美价优 很好 是一次很棒的购物体验</td>\n",
       "    </tr>\n",
       "    <tr>\n",
       "      <th>51</th>\n",
       "      <td>东西不错，与描述相符，值得够买。</td>\n",
       "    </tr>\n",
       "    <tr>\n",
       "      <th>52</th>\n",
       "      <td>很不错 父亲节给爸爸的礼物 爸爸很喜欢 😁😁😁 是一个不错父亲节礼物</td>\n",
       "    </tr>\n",
       "    <tr>\n",
       "      <th>53</th>\n",
       "      <td>不错很快很快，口感很好，茅台出牌必是精品</td>\n",
       "    </tr>\n",
       "    <tr>\n",
       "      <th>54</th>\n",
       "      <td>给父亲买的，酒不错，挺好喝</td>\n",
       "    </tr>\n",
       "    <tr>\n",
       "      <th>55</th>\n",
       "      <td>我老爸超级喜欢这个</td>\n",
       "    </tr>\n",
       "    <tr>\n",
       "      <th>56</th>\n",
       "      <td>买了一件，老妈生日宴上用，物流很快，没有破损，满意，好评！</td>\n",
       "    </tr>\n",
       "    <tr>\n",
       "      <th>57</th>\n",
       "      <td>有点贵了。</td>\n",
       "    </tr>\n",
       "    <tr>\n",
       "      <th>58</th>\n",
       "      <td>酒收到了，完好无损，买来存放的。</td>\n",
       "    </tr>\n",
       "    <tr>\n",
       "      <th>59</th>\n",
       "      <td>很纯，口感好，再来一件</td>\n",
       "    </tr>\n",
       "  </tbody>\n",
       "</table>\n",
       "</div>"
      ],
      "text/plain": [
       "                                                   评论\n",
       "0                                酒逢知己千杯少，一箱迎宾不显多，六星好评\n",
       "1    第二次买了&hellip;&hellip;还别说，在家喝喝，一高兴就得再买一箱^_^^_^^_^\n",
       "2                                              很快包装很好\n",
       "3                                       真 喝着也不错 下次在回购\n",
       "4                                          没问题👌很喜欢这个货\n",
       "5                                    不错的，挺好的酒，直接喝吐，好酒\n",
       "6                                       不错不错，直接干吐了，好酒\n",
       "7                                          没问题，真酒！好喝！\n",
       "8                                            挺好的酱香口粮酒\n",
       "9                                               很好很满意\n",
       "10                                               味道不错\n",
       "11                                               酒比较新\n",
       "12                                          喝起来很上口，不错\n",
       "13                                              看着挺好的\n",
       "14  酒液质量：如果不是专业的品酒师或喜欢喝酒的，53&deg;飞天和这个感觉不会有太大差异。 整...\n",
       "15                                            很好，非常满意\n",
       "16                                没拆！也没喝！喝了在来评价口感和真假！\n",
       "17  买来送长辈的，味道不错，之前在朋友婚礼喝过，但是平常很少喝酒，品不出来和其他酒的差别。总之必...\n",
       "18                           第一次从天猫超市买酒，很不错，保真，实惠，方便。\n",
       "19                         一直在天猫超市买，这次采购不少中秋节走亲戚用！好评！\n",
       "20                                 挺好喝的，第一次尝试，朋友推荐的可以\n",
       "21                口感还是一般般吧 但是好歹也是茅台镇出来的酒 酱香型的味道还是挺不错的\n",
       "22                     天猫超市我信的过，还没有喝，喝过了再评价。全五分，包装完好！\n",
       "23                                    好给老爸买的，天猫超市值得信赖\n",
       "24                                         此用户没有填写评论!\n",
       "25                                      买给爸爸喝，无限次回购中。\n",
       "26                                          送人了 应该是正品\n",
       "27                                       没有喝！但是看起来还不错\n",
       "28                                               非常不错\n",
       "29                                          应该是真的，也没看\n",
       "30                                      包装严实，发货速度快，好评\n",
       "31                             看包装挺精致，没喝过也不知真假，等以后追评吧\n",
       "32                                     天猫超市买的应该不会有假吧？\n",
       "33                    酒液质量：一般 整体评价：一般 包装品质：一般 口感味道：一般\n",
       "34                          一直买，非常好，便宜好喝，天猫超市真的是方便又实惠\n",
       "35                                             酒液质量：x\n",
       "36                                  整箱用封口纸防止了假冒，服务细致。\n",
       "37                                            客户说炒菜用的\n",
       "38                    酒液质量：酒液浓郁 包装品质：包装品质好 外观品相：外观品相好\n",
       "39                                        第二次购买，产品不错！\n",
       "40                                      货应该是真的，就等喝看了。\n",
       "41                                   货真价实，物流快，服务好，很满意\n",
       "42                                  正品酒，挺划算的，下次还会继续购买\n",
       "43                                      实惠，正品保证。期待好喝。\n",
       "44                                    酒很好，是正品，天猫超市信得过\n",
       "45                                    酒很好，是正品，天猫超市信得过\n",
       "46                                     贵啊，我才买双十一又便宜了些\n",
       "47                           有点不愉快，有一瓶瓶盖漏酒，只能先喝了，酒是正品\n",
       "48                          天猫超市我信的过，应该不会有假货。全五分，包装玩好\n",
       "49                         酒味道不错，真正酱香型白酒，价格实惠，以是多次购买了\n",
       "50                            宝贝不错 物美价优 很好 是一次很棒的购物体验\n",
       "51                                   东西不错，与描述相符，值得够买。\n",
       "52                 很不错 父亲节给爸爸的礼物 爸爸很喜欢 😁😁😁 是一个不错父亲节礼物\n",
       "53                               不错很快很快，口感很好，茅台出牌必是精品\n",
       "54                                      给父亲买的，酒不错，挺好喝\n",
       "55                                          我老爸超级喜欢这个\n",
       "56                      买了一件，老妈生日宴上用，物流很快，没有破损，满意，好评！\n",
       "57                                              有点贵了。\n",
       "58                                   酒收到了，完好无损，买来存放的。\n",
       "59                                        很纯，口感好，再来一件"
      ]
     },
     "execution_count": 32,
     "metadata": {},
     "output_type": "execute_result"
    }
   ],
   "source": [
    "df"
   ]
  },
  {
   "cell_type": "code",
   "execution_count": 33,
   "metadata": {},
   "outputs": [],
   "source": [
    "df.to_excel('茅台评论数据.xlsx')"
   ]
  },
  {
   "cell_type": "code",
   "execution_count": 34,
   "metadata": {},
   "outputs": [],
   "source": [
    "#总结过程:\n",
    "#给出想要爬取的目标网页，从网页上获取数据;\n",
    "#找到数据所在的真实的网页，重新发起请求获取数据;#伪装成浏览器，绕开反爬\n",
    "#提取出想要的数据;\n",
    "#获取多页评论数据\n",
    "#使用pandas把数据保存成excel表;"
   ]
  }
 ],
 "metadata": {
  "kernelspec": {
   "display_name": "Python 3",
   "language": "python",
   "name": "python3"
  },
  "language_info": {
   "codemirror_mode": {
    "name": "ipython",
    "version": 3
   },
   "file_extension": ".py",
   "mimetype": "text/x-python",
   "name": "python",
   "nbconvert_exporter": "python",
   "pygments_lexer": "ipython3",
   "version": "3.8.3"
  }
 },
 "nbformat": 4,
 "nbformat_minor": 4
}
