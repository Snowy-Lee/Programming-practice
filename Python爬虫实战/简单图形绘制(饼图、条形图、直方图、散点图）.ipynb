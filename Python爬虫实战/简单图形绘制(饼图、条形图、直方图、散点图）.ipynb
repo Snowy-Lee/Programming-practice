{
 "cells": [
  {
   "cell_type": "code",
   "execution_count": 171,
   "metadata": {},
   "outputs": [],
   "source": [
    "import pandas as pd"
   ]
  },
  {
   "cell_type": "code",
   "execution_count": 172,
   "metadata": {},
   "outputs": [],
   "source": [
    "import numpy as np"
   ]
  },
  {
   "cell_type": "code",
   "execution_count": 173,
   "metadata": {},
   "outputs": [],
   "source": [
    "import matplotlib.pyplot as plt"
   ]
  },
  {
   "cell_type": "code",
   "execution_count": 174,
   "metadata": {},
   "outputs": [],
   "source": [
    "import os\n",
    "os.chdir('F:\\jupyter file\\Python爬虫实战')"
   ]
  },
  {
   "cell_type": "code",
   "execution_count": 175,
   "metadata": {},
   "outputs": [],
   "source": [
    "data = pd.read_excel('淘宝商品数据.xlsx')"
   ]
  },
  {
   "cell_type": "code",
   "execution_count": 176,
   "metadata": {
    "scrolled": true
   },
   "outputs": [
    {
     "data": {
      "text/html": [
       "<div>\n",
       "<style scoped>\n",
       "    .dataframe tbody tr th:only-of-type {\n",
       "        vertical-align: middle;\n",
       "    }\n",
       "\n",
       "    .dataframe tbody tr th {\n",
       "        vertical-align: top;\n",
       "    }\n",
       "\n",
       "    .dataframe thead th {\n",
       "        text-align: right;\n",
       "    }\n",
       "</style>\n",
       "<table border=\"1\" class=\"dataframe\">\n",
       "  <thead>\n",
       "    <tr style=\"text-align: right;\">\n",
       "      <th></th>\n",
       "      <th>Unnamed: 0</th>\n",
       "      <th>名称</th>\n",
       "      <th>价格</th>\n",
       "      <th>月销量</th>\n",
       "      <th>评论数</th>\n",
       "    </tr>\n",
       "  </thead>\n",
       "  <tbody>\n",
       "    <tr>\n",
       "      <th>0</th>\n",
       "      <td>0</td>\n",
       "      <td>【双11限时抢购最高优惠310】华为/HUAWEI P40 Pro|5G SoC芯片超感知徕...</td>\n",
       "      <td>¥ 6488.00</td>\n",
       "      <td>3万+</td>\n",
       "      <td>41139</td>\n",
       "    </tr>\n",
       "    <tr>\n",
       "      <th>1</th>\n",
       "      <td>1</td>\n",
       "      <td>【当天发 24期分期】Huawei/华为 Mate 40 Pro 5G手机mate40pro...</td>\n",
       "      <td>¥ 7899.00</td>\n",
       "      <td>2138</td>\n",
       "      <td>271</td>\n",
       "    </tr>\n",
       "    <tr>\n",
       "      <th>2</th>\n",
       "      <td>2</td>\n",
       "      <td>【当天发24期立减100】Huawei/华为 Mate 40 pro 5G手机官方旗舰店正品...</td>\n",
       "      <td>¥ 8299.00</td>\n",
       "      <td>1487</td>\n",
       "      <td>259</td>\n",
       "    </tr>\n",
       "    <tr>\n",
       "      <th>3</th>\n",
       "      <td>3</td>\n",
       "      <td>【减100元24期分期】华为/HUAWEI Mate 40 Pro手机mate40pro+ ...</td>\n",
       "      <td>¥ 8098.00</td>\n",
       "      <td>1175</td>\n",
       "      <td>137</td>\n",
       "    </tr>\n",
       "    <tr>\n",
       "      <th>4</th>\n",
       "      <td>4</td>\n",
       "      <td>【双11限时抢购最高24期免息】Huawei/华为P40 Pro+5G 徕卡五摄p40系列p...</td>\n",
       "      <td>¥ 7988.00</td>\n",
       "      <td>3233</td>\n",
       "      <td>4564</td>\n",
       "    </tr>\n",
       "  </tbody>\n",
       "</table>\n",
       "</div>"
      ],
      "text/plain": [
       "   Unnamed: 0                                                 名称  \\\n",
       "0           0  【双11限时抢购最高优惠310】华为/HUAWEI P40 Pro|5G SoC芯片超感知徕...   \n",
       "1           1  【当天发 24期分期】Huawei/华为 Mate 40 Pro 5G手机mate40pro...   \n",
       "2           2  【当天发24期立减100】Huawei/华为 Mate 40 pro 5G手机官方旗舰店正品...   \n",
       "3           3  【减100元24期分期】华为/HUAWEI Mate 40 Pro手机mate40pro+ ...   \n",
       "4           4  【双11限时抢购最高24期免息】Huawei/华为P40 Pro+5G 徕卡五摄p40系列p...   \n",
       "\n",
       "             价格   月销量    评论数  \n",
       "0  ¥ 6488.00      3万+  41139  \n",
       "1  ¥ 7899.00     2138    271  \n",
       "2  ¥ 8299.00     1487    259  \n",
       "3  ¥ 8098.00     1175    137  \n",
       "4  ¥ 7988.00     3233   4564  "
      ]
     },
     "execution_count": 176,
     "metadata": {},
     "output_type": "execute_result"
    }
   ],
   "source": [
    "data\n",
    "data.head(5)"
   ]
  },
  {
   "cell_type": "code",
   "execution_count": 177,
   "metadata": {},
   "outputs": [],
   "source": [
    "#data.groupby('评论数').mean()"
   ]
  },
  {
   "cell_type": "code",
   "execution_count": 178,
   "metadata": {},
   "outputs": [],
   "source": [
    "#饼状图"
   ]
  },
  {
   "cell_type": "code",
   "execution_count": 179,
   "metadata": {},
   "outputs": [],
   "source": [
    "data_1 = data.groupby('评论数').mean()"
   ]
  },
  {
   "cell_type": "code",
   "execution_count": 180,
   "metadata": {
    "scrolled": true
   },
   "outputs": [
    {
     "data": {
      "text/plain": [
       "array([[16],\n",
       "       [ 3],\n",
       "       [ 2],\n",
       "       [ 1],\n",
       "       [13],\n",
       "       [11],\n",
       "       [18],\n",
       "       [12],\n",
       "       [ 4],\n",
       "       [14],\n",
       "       [15],\n",
       "       [17],\n",
       "       [ 7],\n",
       "       [ 8],\n",
       "       [ 5],\n",
       "       [10],\n",
       "       [ 0],\n",
       "       [ 6],\n",
       "       [ 9]], dtype=int64)"
      ]
     },
     "execution_count": 180,
     "metadata": {},
     "output_type": "execute_result"
    }
   ],
   "source": [
    "data_1.values"
   ]
  },
  {
   "cell_type": "code",
   "execution_count": 181,
   "metadata": {},
   "outputs": [
    {
     "data": {
      "text/plain": [
       "Int64Index([   31,   137,   259,   271,  1073,  1296,  1404,  1519,  4564,\n",
       "             4909,  5781,  7178,  8729, 13282, 30113, 40521, 41139, 44520,\n",
       "            67099],\n",
       "           dtype='int64', name='评论数')"
      ]
     },
     "execution_count": 181,
     "metadata": {},
     "output_type": "execute_result"
    }
   ],
   "source": [
    "data_1.index"
   ]
  },
  {
   "cell_type": "code",
   "execution_count": 182,
   "metadata": {},
   "outputs": [],
   "source": [
    "x_data = data_1.values\n",
    "y_data = data_1.index"
   ]
  },
  {
   "cell_type": "code",
   "execution_count": 183,
   "metadata": {},
   "outputs": [],
   "source": [
    "#非0为突出显示程度\n",
    "explodes = [0,0.1,0,0,0,0.2,0,0.3,0,0,0,0.2,0,0,0,0,0,0,0]"
   ]
  },
  {
   "cell_type": "code",
   "execution_count": 184,
   "metadata": {},
   "outputs": [],
   "source": [
    "colors = ['red','blue','yellow','green','darkred','purple','red','blue','yellow','green','darkred','purple','red','blue','yellow','green','darkred','purple','yellow']"
   ]
  },
  {
   "cell_type": "code",
   "execution_count": 185,
   "metadata": {},
   "outputs": [],
   "source": [
    "#解决中文乱码和符号问题\n",
    "plt.rcParams['font.sans-serif'] = ['SimHei']\n",
    "plt.rcParams['axes.unicode_minus'] = False"
   ]
  },
  {
   "cell_type": "code",
   "execution_count": 186,
   "metadata": {},
   "outputs": [
    {
     "name": "stderr",
     "output_type": "stream",
     "text": [
      "<ipython-input-186-6586ce109dc7>:2: MatplotlibDeprecationWarning: Non-1D inputs to pie() are currently squeeze()d, but this behavior is deprecated since 3.1 and will be removed in 3.3; pass a 1D array instead.\n",
      "  plt.pie(x = x_data,explode=explodes,labels = y_data,colors = colors,\\\n"
     ]
    },
    {
     "data": {
      "image/png": "[encoded data removed]",
      "text/plain": [
       "<Figure size 432x288 with 1 Axes>"
      ]
     },
     "metadata": {},
     "output_type": "display_data"
    }
   ],
   "source": [
    "#explode = explode,问题？？？不能重名\n",
    "plt.pie(x = x_data,explode=explodes,labels = y_data,colors = colors,\\\n",
    "       autopct='%.1f%%',pctdistance=0.5,labeldistance=1.1,startangle = 120,\\\n",
    "       radius = 1.2,counterclock=False,\n",
    "       wedgeprops ={'linewidth':1.5,'edgecolor':'green'},#'linewidth':1.5边框颜色\n",
    "       textprops={'fontsize':10,'color':'black'})\n",
    "plt.title('评论数分布图',pad = 30)#pad距离坐标轴的距离\n",
    "plt.show()"
   ]
  },
  {
   "cell_type": "code",
   "execution_count": 187,
   "metadata": {},
   "outputs": [],
   "source": [
    "#条形图"
   ]
  },
  {
   "cell_type": "code",
   "execution_count": 188,
   "metadata": {},
   "outputs": [],
   "source": [
    "x_data = data_1.values\n",
    "y_labels = data_1.index"
   ]
  },
  {
   "cell_type": "code",
   "execution_count": 189,
   "metadata": {},
   "outputs": [
    {
     "data": {
      "image/png": "[encoded data removed]",
      "text/plain": [
       "<Figure size 432x288 with 1 Axes>"
      ]
     },
     "metadata": {
      "needs_background": "light"
     },
     "output_type": "display_data"
    }
   ],
   "source": [
    "#heigt后要接数值，len(x_data)\n",
    "plt.bar(x = range(0,len(x_data)),height = y_labels,align = 'center',\n",
    "       color = 'y',tick_label=y_labels)#y是黄色，tick_label长度必须与index长度一致，给x轴打标签\n",
    "plt.xlabel('索引号',labelpad = 20)#labelpad离坐标轴的距离\n",
    "plt.ylabel('月销量',labelpad = 20)\n",
    "plt.title('月销量分布',pad = 30)\n",
    "plt.show()"
   ]
  },
  {
   "cell_type": "code",
   "execution_count": 190,
   "metadata": {},
   "outputs": [],
   "source": [
    "#直方图，用来展示分布"
   ]
  },
  {
   "cell_type": "code",
   "execution_count": 191,
   "metadata": {},
   "outputs": [
    {
     "data": {
      "text/html": [
       "<div>\n",
       "<style scoped>\n",
       "    .dataframe tbody tr th:only-of-type {\n",
       "        vertical-align: middle;\n",
       "    }\n",
       "\n",
       "    .dataframe tbody tr th {\n",
       "        vertical-align: top;\n",
       "    }\n",
       "\n",
       "    .dataframe thead th {\n",
       "        text-align: right;\n",
       "    }\n",
       "</style>\n",
       "<table border=\"1\" class=\"dataframe\">\n",
       "  <thead>\n",
       "    <tr style=\"text-align: right;\">\n",
       "      <th></th>\n",
       "      <th>Unnamed: 0</th>\n",
       "      <th>名称</th>\n",
       "      <th>价格</th>\n",
       "      <th>月销量</th>\n",
       "      <th>评论数</th>\n",
       "    </tr>\n",
       "  </thead>\n",
       "  <tbody>\n",
       "    <tr>\n",
       "      <th>0</th>\n",
       "      <td>0</td>\n",
       "      <td>【双11限时抢购最高优惠310】华为/HUAWEI P40 Pro|5G SoC芯片超感知徕...</td>\n",
       "      <td>¥ 6488.00</td>\n",
       "      <td>3万+</td>\n",
       "      <td>41139</td>\n",
       "    </tr>\n",
       "    <tr>\n",
       "      <th>1</th>\n",
       "      <td>1</td>\n",
       "      <td>【当天发 24期分期】Huawei/华为 Mate 40 Pro 5G手机mate40pro...</td>\n",
       "      <td>¥ 7899.00</td>\n",
       "      <td>2138</td>\n",
       "      <td>271</td>\n",
       "    </tr>\n",
       "    <tr>\n",
       "      <th>2</th>\n",
       "      <td>2</td>\n",
       "      <td>【当天发24期立减100】Huawei/华为 Mate 40 pro 5G手机官方旗舰店正品...</td>\n",
       "      <td>¥ 8299.00</td>\n",
       "      <td>1487</td>\n",
       "      <td>259</td>\n",
       "    </tr>\n",
       "    <tr>\n",
       "      <th>3</th>\n",
       "      <td>3</td>\n",
       "      <td>【减100元24期分期】华为/HUAWEI Mate 40 Pro手机mate40pro+ ...</td>\n",
       "      <td>¥ 8098.00</td>\n",
       "      <td>1175</td>\n",
       "      <td>137</td>\n",
       "    </tr>\n",
       "    <tr>\n",
       "      <th>4</th>\n",
       "      <td>4</td>\n",
       "      <td>【双11限时抢购最高24期免息】Huawei/华为P40 Pro+5G 徕卡五摄p40系列p...</td>\n",
       "      <td>¥ 7988.00</td>\n",
       "      <td>3233</td>\n",
       "      <td>4564</td>\n",
       "    </tr>\n",
       "    <tr>\n",
       "      <th>5</th>\n",
       "      <td>5</td>\n",
       "      <td>【双11限时抢购最高优惠210】华为/HUAWEI P40 | 5GSoC芯片超感知徕卡三摄...</td>\n",
       "      <td>¥ 4488.00</td>\n",
       "      <td>4万+</td>\n",
       "      <td>30113</td>\n",
       "    </tr>\n",
       "    <tr>\n",
       "      <th>6</th>\n",
       "      <td>6</td>\n",
       "      <td>【双11限时抢购最高优惠100】Huawei/华为nova7 5G全面屏6400万麒麟985...</td>\n",
       "      <td>¥ 2999.00</td>\n",
       "      <td>5万+</td>\n",
       "      <td>44520</td>\n",
       "    </tr>\n",
       "    <tr>\n",
       "      <th>7</th>\n",
       "      <td>7</td>\n",
       "      <td>【24期免息优惠300元】华为HUAWEI P40Pro 5G SoC芯片手机徕卡四摄50倍...</td>\n",
       "      <td>¥ 6488.00</td>\n",
       "      <td>4446</td>\n",
       "      <td>8729</td>\n",
       "    </tr>\n",
       "    <tr>\n",
       "      <th>8</th>\n",
       "      <td>8</td>\n",
       "      <td>【12期免息优惠200】HUAWEI/华为 Mate30 Pro 5G手机曲面屏麒麟990双...</td>\n",
       "      <td>¥ 6199.00</td>\n",
       "      <td>1422</td>\n",
       "      <td>13282</td>\n",
       "    </tr>\n",
       "    <tr>\n",
       "      <th>9</th>\n",
       "      <td>9</td>\n",
       "      <td>【双11限时抢购最高优惠200】Huawei/华为Mate30 Pro5G芯片四摄mate3...</td>\n",
       "      <td>¥ 5899.00</td>\n",
       "      <td>2946</td>\n",
       "      <td>67099</td>\n",
       "    </tr>\n",
       "  </tbody>\n",
       "</table>\n",
       "</div>"
      ],
      "text/plain": [
       "   Unnamed: 0                                                 名称  \\\n",
       "0           0  【双11限时抢购最高优惠310】华为/HUAWEI P40 Pro|5G SoC芯片超感知徕...   \n",
       "1           1  【当天发 24期分期】Huawei/华为 Mate 40 Pro 5G手机mate40pro...   \n",
       "2           2  【当天发24期立减100】Huawei/华为 Mate 40 pro 5G手机官方旗舰店正品...   \n",
       "3           3  【减100元24期分期】华为/HUAWEI Mate 40 Pro手机mate40pro+ ...   \n",
       "4           4  【双11限时抢购最高24期免息】Huawei/华为P40 Pro+5G 徕卡五摄p40系列p...   \n",
       "5           5  【双11限时抢购最高优惠210】华为/HUAWEI P40 | 5GSoC芯片超感知徕卡三摄...   \n",
       "6           6  【双11限时抢购最高优惠100】Huawei/华为nova7 5G全面屏6400万麒麟985...   \n",
       "7           7  【24期免息优惠300元】华为HUAWEI P40Pro 5G SoC芯片手机徕卡四摄50倍...   \n",
       "8           8  【12期免息优惠200】HUAWEI/华为 Mate30 Pro 5G手机曲面屏麒麟990双...   \n",
       "9           9  【双11限时抢购最高优惠200】Huawei/华为Mate30 Pro5G芯片四摄mate3...   \n",
       "\n",
       "             价格   月销量    评论数  \n",
       "0  ¥ 6488.00      3万+  41139  \n",
       "1  ¥ 7899.00     2138    271  \n",
       "2  ¥ 8299.00     1487    259  \n",
       "3  ¥ 8098.00     1175    137  \n",
       "4  ¥ 7988.00     3233   4564  \n",
       "5  ¥ 4488.00      4万+  30113  \n",
       "6  ¥ 2999.00      5万+  44520  \n",
       "7  ¥ 6488.00     4446   8729  \n",
       "8  ¥ 6199.00     1422  13282  \n",
       "9  ¥ 5899.00     2946  67099  "
      ]
     },
     "execution_count": 191,
     "metadata": {},
     "output_type": "execute_result"
    }
   ],
   "source": [
    "data.head(10)"
   ]
  },
  {
   "cell_type": "code",
   "execution_count": 192,
   "metadata": {},
   "outputs": [
    {
     "data": {
      "image/png": "[encoded data removed]",
      "text/plain": [
       "<Figure size 432x288 with 1 Axes>"
      ]
     },
     "metadata": {
      "needs_background": "light"
     },
     "output_type": "display_data"
    }
   ],
   "source": [
    "plt.hist(x = data['月销量'],bins = 50,color = 'r',edgecolor='black',\n",
    "        density = True)#bin是出现的格子数\n",
    "plt.title('销量分布图')\n",
    "plt.show()\n"
   ]
  },
  {
   "cell_type": "code",
   "execution_count": 193,
   "metadata": {},
   "outputs": [],
   "source": [
    "#散点图"
   ]
  },
  {
   "cell_type": "code",
   "execution_count": 194,
   "metadata": {},
   "outputs": [],
   "source": [
    "sec_buildings = pd.read_excel('淘宝商品数据.xlsx')"
   ]
  },
  {
   "cell_type": "code",
   "execution_count": 195,
   "metadata": {},
   "outputs": [
    {
     "data": {
      "text/html": [
       "<div>\n",
       "<style scoped>\n",
       "    .dataframe tbody tr th:only-of-type {\n",
       "        vertical-align: middle;\n",
       "    }\n",
       "\n",
       "    .dataframe tbody tr th {\n",
       "        vertical-align: top;\n",
       "    }\n",
       "\n",
       "    .dataframe thead th {\n",
       "        text-align: right;\n",
       "    }\n",
       "</style>\n",
       "<table border=\"1\" class=\"dataframe\">\n",
       "  <thead>\n",
       "    <tr style=\"text-align: right;\">\n",
       "      <th></th>\n",
       "      <th>Unnamed: 0</th>\n",
       "      <th>名称</th>\n",
       "      <th>价格</th>\n",
       "      <th>月销量</th>\n",
       "      <th>评论数</th>\n",
       "    </tr>\n",
       "  </thead>\n",
       "  <tbody>\n",
       "    <tr>\n",
       "      <th>0</th>\n",
       "      <td>0</td>\n",
       "      <td>【双11限时抢购最高优惠310】华为/HUAWEI P40 Pro|5G SoC芯片超感知徕...</td>\n",
       "      <td>¥ 6488.00</td>\n",
       "      <td>3万+</td>\n",
       "      <td>41139</td>\n",
       "    </tr>\n",
       "    <tr>\n",
       "      <th>1</th>\n",
       "      <td>1</td>\n",
       "      <td>【当天发 24期分期】Huawei/华为 Mate 40 Pro 5G手机mate40pro...</td>\n",
       "      <td>¥ 7899.00</td>\n",
       "      <td>2138</td>\n",
       "      <td>271</td>\n",
       "    </tr>\n",
       "    <tr>\n",
       "      <th>2</th>\n",
       "      <td>2</td>\n",
       "      <td>【当天发24期立减100】Huawei/华为 Mate 40 pro 5G手机官方旗舰店正品...</td>\n",
       "      <td>¥ 8299.00</td>\n",
       "      <td>1487</td>\n",
       "      <td>259</td>\n",
       "    </tr>\n",
       "    <tr>\n",
       "      <th>3</th>\n",
       "      <td>3</td>\n",
       "      <td>【减100元24期分期】华为/HUAWEI Mate 40 Pro手机mate40pro+ ...</td>\n",
       "      <td>¥ 8098.00</td>\n",
       "      <td>1175</td>\n",
       "      <td>137</td>\n",
       "    </tr>\n",
       "    <tr>\n",
       "      <th>4</th>\n",
       "      <td>4</td>\n",
       "      <td>【双11限时抢购最高24期免息】Huawei/华为P40 Pro+5G 徕卡五摄p40系列p...</td>\n",
       "      <td>¥ 7988.00</td>\n",
       "      <td>3233</td>\n",
       "      <td>4564</td>\n",
       "    </tr>\n",
       "  </tbody>\n",
       "</table>\n",
       "</div>"
      ],
      "text/plain": [
       "   Unnamed: 0                                                 名称  \\\n",
       "0           0  【双11限时抢购最高优惠310】华为/HUAWEI P40 Pro|5G SoC芯片超感知徕...   \n",
       "1           1  【当天发 24期分期】Huawei/华为 Mate 40 Pro 5G手机mate40pro...   \n",
       "2           2  【当天发24期立减100】Huawei/华为 Mate 40 pro 5G手机官方旗舰店正品...   \n",
       "3           3  【减100元24期分期】华为/HUAWEI Mate 40 Pro手机mate40pro+ ...   \n",
       "4           4  【双11限时抢购最高24期免息】Huawei/华为P40 Pro+5G 徕卡五摄p40系列p...   \n",
       "\n",
       "             价格   月销量    评论数  \n",
       "0  ¥ 6488.00      3万+  41139  \n",
       "1  ¥ 7899.00     2138    271  \n",
       "2  ¥ 8299.00     1487    259  \n",
       "3  ¥ 8098.00     1175    137  \n",
       "4  ¥ 7988.00     3233   4564  "
      ]
     },
     "execution_count": 195,
     "metadata": {},
     "output_type": "execute_result"
    }
   ],
   "source": [
    "sec_buildings.head(5)"
   ]
  },
  {
   "cell_type": "code",
   "execution_count": 196,
   "metadata": {},
   "outputs": [
    {
     "data": {
      "image/png": "[encoded data removed]",
      "text/plain": [
       "<Figure size 432x288 with 1 Axes>"
      ]
     },
     "metadata": {
      "needs_background": "light"
     },
     "output_type": "display_data"
    }
   ],
   "source": [
    "plt.scatter(x = sec_buildings['评论数'],y = sec_buildings['月销量'],\n",
    "           color = 'steelblue',marker='o',s = 100)\n",
    "plt.xlabel('评论数',fontsize=12)\n",
    "plt.ylabel('月销量',fontsize=12)\n",
    "plt.title('评论数和月销量关系',fontsize=12)\n",
    "plt.show()"
   ]
  },
  {
   "cell_type": "code",
   "execution_count": null,
   "metadata": {},
   "outputs": [],
   "source": []
  },
  {
   "cell_type": "code",
   "execution_count": null,
   "metadata": {},
   "outputs": [],
   "source": [
    "#图形设置参数"
   ]
  },
  {
   "cell_type": "code",
   "execution_count": 197,
   "metadata": {},
   "outputs": [],
   "source": [
    "#图例"
   ]
  },
  {
   "cell_type": "code",
   "execution_count": 215,
   "metadata": {},
   "outputs": [
    {
     "data": {
      "image/png": "[encoded data removed]",
      "text/plain": [
       "<Figure size 432x288 with 1 Axes>"
      ]
     },
     "metadata": {
      "needs_background": "light"
     },
     "output_type": "display_data"
    }
   ],
   "source": [
    "plt.plot(data_1.index,data_1.values,label='不同评论销量')\n",
    "plt.legend(loc='best',fontsize=10,frameon=False)#loc自动匹配到最好的位置、frameon图例是否有边框\n",
    "#fig = plt.gcf()#返回一个图像设置参数\n",
    "#fig.set_size_inches(12.5,10.5)#设置图像大小\n",
    "#plt.grid(ls='--',c = 'darkblue')#网格线，线条也可设为实线'-'，点画线’-.'\n",
    "plt.axhline(y=2.5,c='red',ls='--',lw=2)#绘制参考线，平行于x轴，y轴不变\n",
    "plt.axvline(x=10000,c='red',ls='--',lw=2)#绘制参考线，平行于y轴，x轴不变\n",
    "plt.show()"
   ]
  },
  {
   "cell_type": "code",
   "execution_count": 225,
   "metadata": {},
   "outputs": [
    {
     "data": {
      "image/png": "[encoded data removed]",
      "text/plain": [
       "<Figure size 432x288 with 1 Axes>"
      ]
     },
     "metadata": {
      "needs_background": "light"
     },
     "output_type": "display_data"
    }
   ],
   "source": [
    "plt.plot(data_1.index,data_1.values,label='不同评论销量')\n",
    "plt.legend(loc='best',fontsize=10,frameon=False)#loc自动匹配到最好的位置、frameon图例是否有边框\n",
    "plt.axvspan(xmin=10000,xmax=20000,facecolor='r',alpha=0.3)#绘制纵坐标的覆盖区域，alpha为颜色透明度\n",
    "plt.axhspan(ymin=7.5,ymax=10,facecolor='r',alpha=0.3)\n",
    "plt.show()"
   ]
  }
 ],
 "metadata": {
  "kernelspec": {
   "display_name": "Python 3",
   "language": "python",
   "name": "python3"
  },
  "language_info": {
   "codemirror_mode": {
    "name": "ipython",
    "version": 3
   },
   "file_extension": ".py",
   "mimetype": "text/x-python",
   "name": "python",
   "nbconvert_exporter": "python",
   "pygments_lexer": "ipython3",
   "version": "3.8.3"
  }
 },
 "nbformat": 4,
 "nbformat_minor": 4
}
