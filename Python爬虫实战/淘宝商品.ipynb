{
 "cells": [
  {
   "cell_type": "code",
   "execution_count": 4,
   "metadata": {},
   "outputs": [],
   "source": [
    "# 素质四连，固定套路\n",
    "# 导入模块\n",
    "from selenium import webdriver\n",
    "# 指定网址\n",
    "url = 'https://www.taobao.com/'\n",
    "# 打开浏览器，指定为chrome浏览器\n",
    "# C:\\Users\\admin\\Desktop\\chromedriver.exe\n",
    "driver = webdriver.Chrome(r\"D:\\Google\\Chrome\\Application\\chromedriver.exe\")\n",
    "# 加载网页\n",
    "driver.get(url)\n"
   ]
  },
  {
   "cell_type": "code",
   "execution_count": 5,
   "metadata": {},
   "outputs": [],
   "source": [
    "# \n",
    "url ='https://weibo.com/login.php?spm=a2107.1.0.0.cdfa11d92VSJXt&entry=taobao&goto=https%3A%2F%2Flogin.taobao.com%2Faso%2Ftvs%3Fdomain%3Dweibo%26sid%3D8a741a03561f6b89508c5ac585871d95%26target%3D68747470733A2F2F7777772E74616F62616F2E636F6D2F&goto2=https%3A%2F%2Fwww.taobao.com%2F'\n",
    "# 加载网页\n",
    "driver.get(url)"
   ]
  },
  {
   "cell_type": "code",
   "execution_count": 5,
   "metadata": {
    "collapsed": true
   },
   "outputs": [],
   "source": [
    "# 目标是获取手机名称、价格、月销量、评论数"
   ]
  },
  {
   "cell_type": "code",
   "execution_count": 6,
   "metadata": {},
   "outputs": [],
   "source": [
    "# 获取所有商品的链接\n",
    "pros = driver.find_elements_by_xpath('//div[@class=\"row row-2 title\"]/a')"
   ]
  },
  {
   "cell_type": "code",
   "execution_count": 10,
   "metadata": {},
   "outputs": [
    {
     "data": {
      "text/plain": [
       "0"
      ]
     },
     "execution_count": 10,
     "metadata": {},
     "output_type": "execute_result"
    }
   ],
   "source": [
    "len(pros)"
   ]
  },
  {
   "cell_type": "code",
   "execution_count": 9,
   "metadata": {},
   "outputs": [
    {
     "ename": "IndexError",
     "evalue": "list index out of range",
     "output_type": "error",
     "traceback": [
      "\u001b[1;31m---------------------------------------------------------------------------\u001b[0m",
      "\u001b[1;31mIndexError\u001b[0m                                Traceback (most recent call last)",
      "\u001b[1;32m<ipython-input-9-6b5ce21f6429>\u001b[0m in \u001b[0;36m<module>\u001b[1;34m\u001b[0m\n\u001b[1;32m----> 1\u001b[1;33m \u001b[0mpros\u001b[0m\u001b[1;33m[\u001b[0m\u001b[1;36m0\u001b[0m\u001b[1;33m]\u001b[0m\u001b[1;33m.\u001b[0m\u001b[0mclick\u001b[0m\u001b[1;33m(\u001b[0m\u001b[1;33m)\u001b[0m\u001b[1;33m\u001b[0m\u001b[1;33m\u001b[0m\u001b[0m\n\u001b[0m",
      "\u001b[1;31mIndexError\u001b[0m: list index out of range"
     ]
    }
   ],
   "source": [
    "pros[0].click()"
   ]
  },
  {
   "cell_type": "code",
   "execution_count": null,
   "metadata": {},
   "outputs": [],
   "source": [
    "# 操作对象切换到打开的页面\n",
    "driver.switch_to.window(driver.window_handles[1])"
   ]
  },
  {
   "cell_type": "code",
   "execution_count": 27,
   "metadata": {},
   "outputs": [
    {
     "name": "stdout",
     "output_type": "stream",
     "text": [
      "【年货节 24期免息】Huawei/华为Mate 30 5G麒麟990超感光徕卡三摄5G智能手机mate305g官方旗舰店\n",
      "¥ 4999.00-5499.00   \n",
      "3.5万+\n",
      "23303\n"
     ]
    }
   ],
   "source": [
    "# 商品名称,注意使用单数的element\n",
    "title = driver.find_element_by_xpath('//h1[@data-spm=\"1000983\"]').text\n",
    "print(title)\n",
    "# 价格\n",
    "price = driver.find_element_by_xpath('//div[@class=\"tm-promo-price\"]').text\n",
    "print(price)\n",
    "# 月销量\n",
    "mcount = driver.find_element_by_xpath('//span[@class=\"tm-count\"]').text\n",
    "print(mcount)\n",
    "# 评论数\n",
    "ccount = driver.find_element_by_xpath('//li[@class=\"tm-ind-item tm-ind-reviewCount canClick tm-line3\"]//span[@class=\"tm-count\"]').text\n",
    "print(ccount)"
   ]
  },
  {
   "cell_type": "code",
   "execution_count": 28,
   "metadata": {
    "collapsed": true
   },
   "outputs": [],
   "source": [
    "# 关闭页面\n",
    "driver.close()"
   ]
  },
  {
   "cell_type": "code",
   "execution_count": 31,
   "metadata": {
    "collapsed": true
   },
   "outputs": [],
   "source": [
    "# 页面切换回来\n",
    "driver.switch_to.window(driver.window_handles[0])"
   ]
  },
  {
   "cell_type": "code",
   "execution_count": 32,
   "metadata": {},
   "outputs": [
    {
     "name": "stdout",
     "output_type": "stream",
     "text": [
      "【年货节 24期免息】Huawei/华为Mate 30 5G麒麟990超感光徕卡三摄5G智能手机mate305g官方旗舰店\n",
      "¥ 4999.00-5499.00   \n",
      "3.5万+\n",
      "23312\n",
      "===================\n",
      "【年货节 24期免息】Huawei/华为Mate 30 Pro 5G麒麟990徕卡四摄5G芯片智能手机mate30pro5g官方旗舰店\n",
      "¥ 6399.00-7899.00   \n",
      "5.0万+\n",
      "37024\n",
      "===================\n",
      "直降300【6期免息/当天发】Huawei/华为P30手机官方旗舰店正品手机p30pro直降全网通5g华为mate30/nova5/p20\n",
      "¥ 3388.00-4188.00   \n",
      "50\n",
      "113\n",
      "===================\n"
     ]
    }
   ],
   "source": [
    "# 先爬取3个商品试试\n",
    "for i in pros[:3]:\n",
    "    i.click()\n",
    "    driver.switch_to.window(driver.window_handles[1]) \n",
    "    # 商品名称,注意使用单数的element\n",
    "    title = driver.find_element_by_xpath('//h1[@data-spm=\"1000983\"]').text\n",
    "    print(title)\n",
    "    # 价格\n",
    "    price = driver.find_element_by_xpath('//div[@class=\"tm-promo-price\"]').text\n",
    "    print(price)\n",
    "    # 月销量\n",
    "    mcount = driver.find_element_by_xpath('//span[@class=\"tm-count\"]').text\n",
    "    print(mcount)\n",
    "    # 评论数\n",
    "    ccount = driver.find_element_by_xpath('//li[@class=\"tm-ind-item tm-ind-reviewCount canClick tm-line3\"]//span[@class=\"tm-count\"]').text\n",
    "    print(ccount)\n",
    "    print('===================')\n",
    "    driver.close()\n",
    "    driver.switch_to.window(driver.window_handles[0])    "
   ]
  },
  {
   "cell_type": "code",
   "execution_count": 1,
   "metadata": {},
   "outputs": [
    {
     "ename": "NameError",
     "evalue": "name 'pros' is not defined",
     "output_type": "error",
     "traceback": [
      "\u001b[1;31m---------------------------------------------------------------------------\u001b[0m",
      "\u001b[1;31mNameError\u001b[0m                                 Traceback (most recent call last)",
      "\u001b[1;32m<ipython-input-1-80b98b7ca8d5>\u001b[0m in \u001b[0;36m<module>\u001b[1;34m\u001b[0m\n\u001b[0;32m      5\u001b[0m \u001b[0mmcounts\u001b[0m\u001b[1;33m=\u001b[0m\u001b[1;33m[\u001b[0m\u001b[1;33m]\u001b[0m\u001b[1;33m\u001b[0m\u001b[1;33m\u001b[0m\u001b[0m\n\u001b[0;32m      6\u001b[0m \u001b[0mccounts\u001b[0m \u001b[1;33m=\u001b[0m \u001b[1;33m[\u001b[0m\u001b[1;33m]\u001b[0m\u001b[1;33m\u001b[0m\u001b[1;33m\u001b[0m\u001b[0m\n\u001b[1;32m----> 7\u001b[1;33m \u001b[1;32mfor\u001b[0m \u001b[0mi\u001b[0m \u001b[1;32min\u001b[0m \u001b[0mpros\u001b[0m\u001b[1;33m[\u001b[0m\u001b[1;33m:\u001b[0m\u001b[1;36m15\u001b[0m\u001b[1;33m]\u001b[0m\u001b[1;33m:\u001b[0m\u001b[1;33m\u001b[0m\u001b[1;33m\u001b[0m\u001b[0m\n\u001b[0m\u001b[0;32m      8\u001b[0m     \u001b[0mi\u001b[0m\u001b[1;33m.\u001b[0m\u001b[0mclick\u001b[0m\u001b[1;33m(\u001b[0m\u001b[1;33m)\u001b[0m\u001b[1;33m\u001b[0m\u001b[1;33m\u001b[0m\u001b[0m\n\u001b[0;32m      9\u001b[0m     \u001b[0mdriver\u001b[0m\u001b[1;33m.\u001b[0m\u001b[0mswitch_to\u001b[0m\u001b[1;33m.\u001b[0m\u001b[0mwindow\u001b[0m\u001b[1;33m(\u001b[0m\u001b[0mdriver\u001b[0m\u001b[1;33m.\u001b[0m\u001b[0mwindow_handles\u001b[0m\u001b[1;33m[\u001b[0m\u001b[1;36m1\u001b[0m\u001b[1;33m]\u001b[0m\u001b[1;33m)\u001b[0m\u001b[1;33m\u001b[0m\u001b[1;33m\u001b[0m\u001b[0m\n",
      "\u001b[1;31mNameError\u001b[0m: name 'pros' is not defined"
     ]
    }
   ],
   "source": [
    "# 优化代码\n",
    "# 存储\n",
    "titles =[]\n",
    "prices =[]\n",
    "mcounts=[]\n",
    "ccounts = []\n",
    "for i in pros[:15]:\n",
    "    i.click()\n",
    "    driver.switch_to.window(driver.window_handles[1]) \n",
    "    # 商品名称,注意使用单数的element\n",
    "    title = driver.find_element_by_xpath('//h1[@data-spm=\"1000983\"]').text\n",
    "    print(title)\n",
    "    # 价格\n",
    "    price = driver.find_element_by_xpath('//div[@class=\"tm-promo-price\"]').text\n",
    "    print(price)\n",
    "    # 月销量\n",
    "    mcount = driver.find_element_by_xpath('//span[@class=\"tm-count\"]').text\n",
    "    print(mcount)\n",
    "    # 评论数\n",
    "    ccount = driver.find_element_by_xpath('//li[@class=\"tm-ind-item tm-ind-reviewCount canClick tm-line3\"]//span[@class=\"tm-count\"]').text\n",
    "    print(ccount)\n",
    "    print('===================')\n",
    "    # 存储\n",
    "    titles.append(title)\n",
    "    prices.append(price)\n",
    "    mcounts.append(mcount)\n",
    "    ccounts.append(ccount)\n",
    "    driver.close()\n",
    "    driver.switch_to.window(driver.window_handles[0])    "
   ]
  },
  {
   "cell_type": "code",
   "execution_count": 34,
   "metadata": {
    "collapsed": true
   },
   "outputs": [],
   "source": [
    "import pandas as pd"
   ]
  },
  {
   "cell_type": "code",
   "execution_count": 36,
   "metadata": {
    "collapsed": true
   },
   "outputs": [],
   "source": [
    "data = pd.DataFrame()\n",
    "data['名称'] = titles\n",
    "data['价格']= prices\n"
   ]
  },
  {
   "cell_type": "code",
   "execution_count": 37,
   "metadata": {},
   "outputs": [
    {
     "data": {
      "text/html": [
       "<div>\n",
       "<style scoped>\n",
       "    .dataframe tbody tr th:only-of-type {\n",
       "        vertical-align: middle;\n",
       "    }\n",
       "\n",
       "    .dataframe tbody tr th {\n",
       "        vertical-align: top;\n",
       "    }\n",
       "\n",
       "    .dataframe thead th {\n",
       "        text-align: right;\n",
       "    }\n",
       "</style>\n",
       "<table border=\"1\" class=\"dataframe\">\n",
       "  <thead>\n",
       "    <tr style=\"text-align: right;\">\n",
       "      <th></th>\n",
       "      <th>名称</th>\n",
       "      <th>价格</th>\n",
       "    </tr>\n",
       "  </thead>\n",
       "  <tbody>\n",
       "    <tr>\n",
       "      <th>0</th>\n",
       "      <td>【年货节 24期免息】Huawei/华为Mate 30 5G麒麟990超感光徕卡三摄5G智能...</td>\n",
       "      <td>¥ 4999.00-5499.00</td>\n",
       "    </tr>\n",
       "    <tr>\n",
       "      <th>1</th>\n",
       "      <td>【年货节 24期免息】Huawei/华为Mate 30 Pro 5G麒麟990徕卡四摄5G芯...</td>\n",
       "      <td>¥ 6399.00-7899.00</td>\n",
       "    </tr>\n",
       "    <tr>\n",
       "      <th>2</th>\n",
       "      <td>直降300【6期免息/当天发】Huawei/华为P30手机官方旗舰店正品手机p30pro直降...</td>\n",
       "      <td>¥ 3388.00-4188.00</td>\n",
       "    </tr>\n",
       "    <tr>\n",
       "      <th>3</th>\n",
       "      <td>12期免息立减800【优惠2150】 Huawei/华为 Mate 20 华为Mate20手...</td>\n",
       "      <td>¥ 2699.00-3199.00</td>\n",
       "    </tr>\n",
       "    <tr>\n",
       "      <th>4</th>\n",
       "      <td>【24期分期】HUAWEI/华为 Mate 30 5G版手机华为官方旗舰店全网通华为5g手机...</td>\n",
       "      <td>¥ 3999.00-5499.00</td>\n",
       "    </tr>\n",
       "    <tr>\n",
       "      <th>5</th>\n",
       "      <td>分期免息HUAWEI/华为Mate30Pro5G版华为官方旗舰店5g全网通华为5g手机官网正...</td>\n",
       "      <td>¥ 6399.00-7899.00</td>\n",
       "    </tr>\n",
       "    <tr>\n",
       "      <th>6</th>\n",
       "      <td>可减420元送天猫精灵/华为HONOR 荣耀V20全面屏手机官方旗舰店官网正品magic3青...</td>\n",
       "      <td>¥ 2399.00-2599.00</td>\n",
       "    </tr>\n",
       "    <tr>\n",
       "      <th>7</th>\n",
       "      <td>【24期分期/有礼1100】Huawei/华为 nova 5 Pro手机官方旗舰店正品nov...</td>\n",
       "      <td>¥ 2499.00-2899.00</td>\n",
       "    </tr>\n",
       "    <tr>\n",
       "      <th>8</th>\n",
       "      <td>【直降200】Huawei/华为 nova 5 Pro 新款手机官方旗舰店官网降价5g全网通...</td>\n",
       "      <td>¥ 2499.00-2899.00</td>\n",
       "    </tr>\n",
       "    <tr>\n",
       "      <th>9</th>\n",
       "      <td>24期免息/新品当天发】Huawei/华为nova 6 5G/4G官方旗舰店正品华为nova...</td>\n",
       "      <td>¥ 3199.00-4199.00</td>\n",
       "    </tr>\n",
       "    <tr>\n",
       "      <th>10</th>\n",
       "      <td>新品5G【24期免息+送好礼】 Huawei/华为nova 6 5G/4G手机官方旗舰店正品...</td>\n",
       "      <td>¥ 3199.00-4199.00</td>\n",
       "    </tr>\n",
       "    <tr>\n",
       "      <th>11</th>\n",
       "      <td>当天发【24期免息】Huawei/华为nova 6 5G/4G 手机官方旗舰店正品nova5...</td>\n",
       "      <td>¥ 3199.00-4199.00</td>\n",
       "    </tr>\n",
       "    <tr>\n",
       "      <th>12</th>\n",
       "      <td>【24期免息+送好礼】HUAWEI/华为 Mate 30 Pro 5G手机官方旗舰店正品ma...</td>\n",
       "      <td>¥ 6399.00-7899.00</td>\n",
       "    </tr>\n",
       "    <tr>\n",
       "      <th>13</th>\n",
       "      <td>【24期分期/送无线充】Huawei/华为 Mate 30 5G版 手机官网官方旗舰店华为手...</td>\n",
       "      <td>¥ 4299.00-5499.00</td>\n",
       "    </tr>\n",
       "    <tr>\n",
       "      <th>14</th>\n",
       "      <td>5G新品24期免息当天发Huawei/华为nova 6 5G/4G官方旗舰店正品华为nova...</td>\n",
       "      <td>¥ 3199.00-4199.00</td>\n",
       "    </tr>\n",
       "  </tbody>\n",
       "</table>\n",
       "</div>"
      ],
      "text/plain": [
       "                                                   名称                    价格\n",
       "0   【年货节 24期免息】Huawei/华为Mate 30 5G麒麟990超感光徕卡三摄5G智能...  ¥ 4999.00-5499.00   \n",
       "1   【年货节 24期免息】Huawei/华为Mate 30 Pro 5G麒麟990徕卡四摄5G芯...  ¥ 6399.00-7899.00   \n",
       "2   直降300【6期免息/当天发】Huawei/华为P30手机官方旗舰店正品手机p30pro直降...  ¥ 3388.00-4188.00   \n",
       "3   12期免息立减800【优惠2150】 Huawei/华为 Mate 20 华为Mate20手...  ¥ 2699.00-3199.00   \n",
       "4   【24期分期】HUAWEI/华为 Mate 30 5G版手机华为官方旗舰店全网通华为5g手机...  ¥ 3999.00-5499.00   \n",
       "5   分期免息HUAWEI/华为Mate30Pro5G版华为官方旗舰店5g全网通华为5g手机官网正...  ¥ 6399.00-7899.00   \n",
       "6   可减420元送天猫精灵/华为HONOR 荣耀V20全面屏手机官方旗舰店官网正品magic3青...  ¥ 2399.00-2599.00   \n",
       "7   【24期分期/有礼1100】Huawei/华为 nova 5 Pro手机官方旗舰店正品nov...  ¥ 2499.00-2899.00   \n",
       "8   【直降200】Huawei/华为 nova 5 Pro 新款手机官方旗舰店官网降价5g全网通...  ¥ 2499.00-2899.00   \n",
       "9   24期免息/新品当天发】Huawei/华为nova 6 5G/4G官方旗舰店正品华为nova...  ¥ 3199.00-4199.00   \n",
       "10  新品5G【24期免息+送好礼】 Huawei/华为nova 6 5G/4G手机官方旗舰店正品...  ¥ 3199.00-4199.00   \n",
       "11  当天发【24期免息】Huawei/华为nova 6 5G/4G 手机官方旗舰店正品nova5...  ¥ 3199.00-4199.00   \n",
       "12  【24期免息+送好礼】HUAWEI/华为 Mate 30 Pro 5G手机官方旗舰店正品ma...  ¥ 6399.00-7899.00   \n",
       "13  【24期分期/送无线充】Huawei/华为 Mate 30 5G版 手机官网官方旗舰店华为手...  ¥ 4299.00-5499.00   \n",
       "14  5G新品24期免息当天发Huawei/华为nova 6 5G/4G官方旗舰店正品华为nova...  ¥ 3199.00-4199.00   "
      ]
     },
     "execution_count": 37,
     "metadata": {},
     "output_type": "execute_result"
    }
   ],
   "source": [
    "data"
   ]
  },
  {
   "cell_type": "code",
   "execution_count": 38,
   "metadata": {
    "collapsed": true
   },
   "outputs": [],
   "source": [
    "data.to_excel('淘宝商品数据.xlsx')"
   ]
  }
 ],
 "metadata": {
  "kernelspec": {
   "display_name": "Python 3",
   "language": "python",
   "name": "python3"
  },
  "language_info": {
   "codemirror_mode": {
    "name": "ipython",
    "version": 3
   },
   "file_extension": ".py",
   "mimetype": "text/x-python",
   "name": "python",
   "nbconvert_exporter": "python",
   "pygments_lexer": "ipython3",
   "version": "3.8.3"
  }
 },
 "nbformat": 4,
 "nbformat_minor": 2
}
